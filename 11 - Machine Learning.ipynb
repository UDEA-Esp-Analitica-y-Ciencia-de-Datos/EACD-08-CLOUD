{
 "cells": [
  {
   "cell_type": "code",
   "execution_count": null,
   "metadata": {
    "application/vnd.databricks.v1+cell": {
     "cellMetadata": {
      "byteLimit": 2048000,
      "rowLimit": 10000
     },
     "inputWidgets": {},
     "nuid": "f85d5bcc-eb8c-4668-840b-9df0b013bcaf",
     "showTitle": false,
     "title": ""
    }
   },
   "outputs": [],
   "source": [
    "import sys\n",
    "from pyspark.sql import SparkSession\n",
    "from pyspark.sql import functions\n",
    "from pyspark.sql.functions import *\n",
    "from pyspark.sql.types import *\n",
    "from pyspark.ml.stat import Correlation\n",
    "from pyspark.ml.feature import VectorAssembler"
   ]
  },
  {
   "cell_type": "code",
   "execution_count": null,
   "metadata": {
    "application/vnd.databricks.v1+cell": {
     "cellMetadata": {
      "byteLimit": 2048000,
      "rowLimit": 10000
     },
     "inputWidgets": {},
     "nuid": "37189eed-9d1d-43b8-9c7d-e05f92547eba",
     "showTitle": false,
     "title": ""
    }
   },
   "outputs": [],
   "source": [
    "spark = SparkSession\\\n",
    "    .builder\\\n",
    "    .appName(\"Spark_ML\")\\\n",
    "    .getOrCreate()"
   ]
  },
  {
   "cell_type": "markdown",
   "metadata": {
    "application/vnd.databricks.v1+cell": {
     "cellMetadata": {},
     "inputWidgets": {},
     "nuid": "29ef5e58-d977-43d7-9505-3e52d2a9ca51",
     "showTitle": false,
     "title": ""
    },
    "id": "gjFB5U9fQdU1"
   },
   "source": [
    "#**MACHINE LEARNING**"
   ]
  },
  {
   "cell_type": "markdown",
   "metadata": {
    "application/vnd.databricks.v1+cell": {
     "cellMetadata": {},
     "inputWidgets": {},
     "nuid": "0b958a1e-bdb9-40f4-9e4b-a667ed20f6e4",
     "showTitle": false,
     "title": ""
    },
    "id": "yM8n4bwZTLoW"
   },
   "source": [
    "El Machine Learning o aprendizaje automático es una disciplina orientada a crear sistemas que puedan aprender por sí solos, con el fin de extraer información no trivial de grandes volúmenes de datos por medio de la identificación de patrones complejos.\n",
    "\n",
    "Spark implementa el aprendizaje automático a través del módulo MLLib que cuenta con un gran número de algoritmos que permiten crear modelos para el aprendizaje automático. Teniendo en cuenta que Spark proporciona sistemas distribuidos para trabajar en paralelo, los algoritmos de Machine Learning implementados en MLLib deben poder ser paralelizables\n",
    "\n",
    "Pueden identificarse dos grandes ramas en el aprendizaje automático, a saber, el aprendizaje supervisado y el aprendizaje NO supervisado."
   ]
  },
  {
   "cell_type": "markdown",
   "metadata": {
    "application/vnd.databricks.v1+cell": {
     "cellMetadata": {},
     "inputWidgets": {},
     "nuid": "69ca8e5f-822b-41d5-b3b9-783e1d9d8d70",
     "showTitle": false,
     "title": ""
    },
    "id": "CKu6ST0TTSnP"
   },
   "source": [
    "##**Aprendizaje Supervisado**"
   ]
  },
  {
   "cell_type": "markdown",
   "metadata": {
    "application/vnd.databricks.v1+cell": {
     "cellMetadata": {},
     "inputWidgets": {},
     "nuid": "bc3d97e5-62ec-4b3a-a07f-25eca76b518b",
     "showTitle": false,
     "title": ""
    },
    "id": "LOXtIaKMa-ke"
   },
   "source": [
    "El aprendizaje supervisado utiliza un conjunto histórico de datos donde se tienen los registros previamente catalogados, para crear un modelo de predicción. Este modelo de predicción aprende de los datos históricos hasta obtener la capacidad de predecir lo que pasará con nuevos conjuntos de datos.\n",
    "\n",
    "Se caracterizan por disponer de una variable objetivo o variable de clase, que es justamente lo que se quiere predecir. Esta variable objetivo puede ser numérica (regresión) o categórica (clasificación)"
   ]
  },
  {
   "cell_type": "markdown",
   "metadata": {
    "application/vnd.databricks.v1+cell": {
     "cellMetadata": {},
     "inputWidgets": {},
     "nuid": "b1cd8e27-507b-435d-8f2b-7f96f1b84552",
     "showTitle": false,
     "title": ""
    },
    "id": "80DnuvXQFBLZ"
   },
   "source": [
    "El **ciclo de vida** del aprendizaje supervisado consta de tres fases\n",
    "\n",
    "* **Modelamiento:** Consiste en construir el modelo que permita predecir la variable objetivo\n",
    "* **Evaluación:** Se evalúa el modelo predictivo construido para ver que tanto podemos confiar en el\n",
    "* **Validación:** Una vez el modelo ha sido evaluado y el resultado es el esperado, se someten datos nuevos al modelo para realizar la predicción\n",
    "\n",
    "La etapa de modelamiento y evaluación requieren del conjunto histórico de datos. Esto significa que debemos decidir la forma como se utilizarán los datos históricos en estas dos etapas. Para esto disponemos de tres opciones:\n",
    "\n",
    "* **Evaluar el mismo conjunto de entrenamiento**\n",
    "* **División de datos (Split / 70-30)**\n",
    "* **Validación cruzada**"
   ]
  },
  {
   "cell_type": "markdown",
   "metadata": {
    "application/vnd.databricks.v1+cell": {
     "cellMetadata": {},
     "inputWidgets": {},
     "nuid": "328b04df-17f2-427e-b706-e7f898a88ae4",
     "showTitle": false,
     "title": ""
    },
    "id": "1l2bA5koIvGr"
   },
   "source": [
    "###**Predicción continua o Regresión**"
   ]
  },
  {
   "cell_type": "markdown",
   "metadata": {
    "application/vnd.databricks.v1+cell": {
     "cellMetadata": {},
     "inputWidgets": {},
     "nuid": "92e34d69-a71e-4125-ad07-24b73090d12d",
     "showTitle": false,
     "title": ""
    },
    "id": "-oxngOnmbLFa"
   },
   "source": [
    "Es el estudio de un conjunto de datos históricos con el fin de predecir un evento numérico futuro.\n",
    "\n",
    "Es decir que la variable objetivo a predecir es de tipo numérica."
   ]
  },
  {
   "cell_type": "markdown",
   "metadata": {
    "application/vnd.databricks.v1+cell": {
     "cellMetadata": {},
     "inputWidgets": {},
     "nuid": "6761df1f-9862-470e-a85e-58502afd753e",
     "showTitle": false,
     "title": ""
    },
    "id": "534CVcFEG5Jc"
   },
   "source": [
    "**Evaluación**"
   ]
  },
  {
   "cell_type": "markdown",
   "metadata": {
    "application/vnd.databricks.v1+cell": {
     "cellMetadata": {},
     "inputWidgets": {},
     "nuid": "fade4949-b285-4724-b4d3-8a47a02c46fd",
     "showTitle": false,
     "title": ""
    },
    "id": "biApAd54HBC4"
   },
   "source": [
    "Como la variable a predecir es numérica el error de predicción se calcula al comparar el valor real contra el valor de la predicción y esto se hace con una fórmula matemática de cálculo de error. Existen varias formas de calcular ese error:\n",
    "\n",
    "* Error medio absoluto:\n",
    "\n",
    "$$error = \\frac{\\sum_ {i=1}^n  |f(x)-p(x)|}{n}$$\n",
    "\n",
    "* Error cuadrático medio:\n",
    "$$error = \\frac{1}{n}\\sum(f(x)-p(x))^2$$\n",
    "\n",
    "\n",
    "Donde, \n",
    "* f(x): Valor real\n",
    "* p(x): predicción"
   ]
  },
  {
   "cell_type": "markdown",
   "metadata": {
    "application/vnd.databricks.v1+cell": {
     "cellMetadata": {},
     "inputWidgets": {},
     "nuid": "2f2a495f-729f-4d4f-873a-7716d2bc2851",
     "showTitle": false,
     "title": ""
    },
    "id": "aIae9fVuL11u"
   },
   "source": [
    "**Ejemplo: Predicción del precio de venta de una propiedad en Boston**\n",
    "\n",
    "\n",
    "Tomado de: https://www.kaggle.com/kyasar/boston-housing"
   ]
  },
  {
   "cell_type": "markdown",
   "metadata": {
    "application/vnd.databricks.v1+cell": {
     "cellMetadata": {},
     "inputWidgets": {},
     "nuid": "d334459b-92d7-4eed-a5c6-358506514b71",
     "showTitle": false,
     "title": ""
    },
    "id": "aOs2SfX70rqB"
   },
   "source": [
    "**1. Preparar**"
   ]
  },
  {
   "cell_type": "markdown",
   "metadata": {
    "application/vnd.databricks.v1+cell": {
     "cellMetadata": {},
     "inputWidgets": {},
     "nuid": "4819e22f-b04b-44a2-93a8-9b445e5ced49",
     "showTitle": false,
     "title": ""
    },
    "id": "gvR4JxbgMaJ7"
   },
   "source": [
    "Carga de datos"
   ]
  },
  {
   "cell_type": "code",
   "execution_count": null,
   "metadata": {
    "application/vnd.databricks.v1+cell": {
     "cellMetadata": {
      "byteLimit": 2048000,
      "rowLimit": 10000
     },
     "inputWidgets": {},
     "nuid": "6a8cc8c1-d0f7-4cc7-96cc-5f6d50010428",
     "showTitle": false,
     "title": ""
    },
    "executionInfo": {
     "elapsed": 36408,
     "status": "aborted",
     "timestamp": 1667056650292,
     "user": {
      "displayName": "Efraín Alberto Oviedo",
      "userId": "15887399601004413523"
     },
     "user_tz": 300
    },
    "id": "F77Y0gBmMbvJ",
    "tags": []
   },
   "outputs": [],
   "source": [
    "ruta=\"s3://mybucket9825/Entrada/boston_housing.csv\"\n",
    "boston = spark.read.format(\"csv\") \\\n",
    "      .option(\"header\", True) \\\n",
    "      .option(\"delimiter\", \",\") \\\n",
    "      .option(\"inferschema\",True) \\\n",
    "      .load(ruta)\n",
    "boston.cache()\n",
    "boston.printSchema()"
   ]
  },
  {
   "cell_type": "markdown",
   "metadata": {
    "application/vnd.databricks.v1+cell": {
     "cellMetadata": {},
     "inputWidgets": {},
     "nuid": "cb316761-3f12-4b7f-b1f2-b3e29390cf0e",
     "showTitle": false,
     "title": ""
    },
    "id": "xYJVxgeaMcpD"
   },
   "source": [
    "Esta es la descripción de las variables disponibles:\n",
    "\n",
    "* crim : Tasa de delincuencia per cápita por población\n",
    "* zn:  Proporción de terreno residencial dividido en zonas para lotes de más de 25,000 pies cuadrados.\n",
    "* indus : Proporción de terrenos comerciales no minoristas por población.\n",
    "* chas: Indica si la propiedad limita o no con el río (1 si limita con el río. 0 en caso contrario).\n",
    "* nox: Concentración de óxidos nítricos (partes por 10 millones).\n",
    "* rm : Promedio de habitaciones por vivienda.\n",
    "* age : Proporción de unidades ocupadas por sus propietarios construidas antes de 1940\n",
    "* dis : Distancias ponderadas a cinco centros de empleo de Boston\n",
    "* rad: índice de accesibilidad a carreteras principales.\n",
    "* tax : tasa de impuesto a la propiedad.\n",
    "* ptratio: Proporción alumno-profesor.\n",
    "* black: Proporción de negros por ciudad.\n",
    "* lstat: Estatus más bajo de la población (porcentaje).\n",
    "* **mv : valor medio de las viviendas en $ 1000. Esta es la variable objetivo.**"
   ]
  },
  {
   "cell_type": "markdown",
   "metadata": {
    "application/vnd.databricks.v1+cell": {
     "cellMetadata": {},
     "inputWidgets": {},
     "nuid": "fcdaa055-ad79-4958-9122-39f8b0b92745",
     "showTitle": false,
     "title": ""
    },
    "id": "o9D-dqRnRwGi"
   },
   "source": [
    "Descripción estadística de los datos"
   ]
  },
  {
   "cell_type": "code",
   "execution_count": null,
   "metadata": {
    "application/vnd.databricks.v1+cell": {
     "cellMetadata": {
      "byteLimit": 2048000,
      "rowLimit": 10000
     },
     "inputWidgets": {},
     "nuid": "d5ecd86e-4b27-4179-85e7-d37eebbf7dfc",
     "showTitle": false,
     "title": ""
    },
    "executionInfo": {
     "elapsed": 36401,
     "status": "aborted",
     "timestamp": 1667056650292,
     "user": {
      "displayName": "Efraín Alberto Oviedo",
      "userId": "15887399601004413523"
     },
     "user_tz": 300
    },
    "id": "7TnawsXbu0fa",
    "tags": []
   },
   "outputs": [],
   "source": [
    "boston.describe().show()"
   ]
  },
  {
   "cell_type": "markdown",
   "metadata": {
    "application/vnd.databricks.v1+cell": {
     "cellMetadata": {},
     "inputWidgets": {},
     "nuid": "9366f8e8-4e06-406c-bd42-dafe1f38a9e4",
     "showTitle": false,
     "title": ""
    },
    "id": "Zd1P2umTZUXG"
   },
   "source": [
    "Análisis de correlación"
   ]
  },
  {
   "cell_type": "code",
   "execution_count": null,
   "metadata": {
    "application/vnd.databricks.v1+cell": {
     "cellMetadata": {
      "byteLimit": 2048000,
      "rowLimit": 10000
     },
     "inputWidgets": {},
     "nuid": "7f78d369-3e48-4fa2-8ceb-a4b68e240b35",
     "showTitle": false,
     "title": ""
    },
    "executionInfo": {
     "elapsed": 36634,
     "status": "aborted",
     "timestamp": 1667056650535,
     "user": {
      "displayName": "Efraín Alberto Oviedo",
      "userId": "15887399601004413523"
     },
     "user_tz": 300
    },
    "id": "0gQSZnEbZT7u"
   },
   "outputs": [],
   "source": [
    "import six\n",
    "print(\"Correlación con la variable objetivo\")\n",
    "for i in boston.columns:\n",
    "    if not( isinstance(boston.select(i).take(1)[0][0], six.string_types)):\n",
    "        print( \"\", i, boston.stat.corr('medv',i))"
   ]
  },
  {
   "cell_type": "markdown",
   "metadata": {
    "application/vnd.databricks.v1+cell": {
     "cellMetadata": {},
     "inputWidgets": {},
     "nuid": "83d7fcb2-3a66-4d76-b144-1e1cf4acd239",
     "showTitle": false,
     "title": ""
    },
    "id": "uHofhJDXqONe"
   },
   "source": [
    "Si dispone de muchas variables, se recomienda eliminar aquellas que presentan una correlación baja con la variable objetivo"
   ]
  },
  {
   "cell_type": "code",
   "execution_count": null,
   "metadata": {
    "application/vnd.databricks.v1+cell": {
     "cellMetadata": {
      "byteLimit": 2048000,
      "rowLimit": 10000
     },
     "inputWidgets": {},
     "nuid": "1b5f6f47-8000-456e-92a0-8f0ffc02eba8",
     "showTitle": false,
     "title": ""
    },
    "executionInfo": {
     "elapsed": 36623,
     "status": "aborted",
     "timestamp": 1667056650536,
     "user": {
      "displayName": "Efraín Alberto Oviedo",
      "userId": "15887399601004413523"
     },
     "user_tz": 300
    },
    "id": "4IfKnZPhqZ38"
   },
   "outputs": [],
   "source": [
    "boston=boston.drop(\"chas\",\"dis\")\n",
    "boston.columns"
   ]
  },
  {
   "cell_type": "markdown",
   "metadata": {
    "application/vnd.databricks.v1+cell": {
     "cellMetadata": {},
     "inputWidgets": {},
     "nuid": "c91f0ed6-4dbb-4618-9ad1-ea2f2ccc9836",
     "showTitle": false,
     "title": ""
    },
    "id": "E4986Z6afumq"
   },
   "source": [
    "Para aplicar la técnica de Machine Learning se requiere representar los datos mediante dos columnas, una con las variables predictoras (features) y la otra es la variable objetivo"
   ]
  },
  {
   "cell_type": "code",
   "execution_count": null,
   "metadata": {
    "application/vnd.databricks.v1+cell": {
     "cellMetadata": {
      "byteLimit": 2048000,
      "rowLimit": 10000
     },
     "inputWidgets": {},
     "nuid": "d0375469-c1de-480f-b6e4-f6e615272fc5",
     "showTitle": false,
     "title": ""
    },
    "executionInfo": {
     "elapsed": 36613,
     "status": "aborted",
     "timestamp": 1667056650537,
     "user": {
      "displayName": "Efraín Alberto Oviedo",
      "userId": "15887399601004413523"
     },
     "user_tz": 300
    },
    "id": "qKJrFUwNgBTq"
   },
   "outputs": [],
   "source": [
    "from pyspark.ml.feature import VectorAssembler\n",
    "\n",
    "vectorAssembler = VectorAssembler(inputCols = \\\n",
    "    ['crim', 'zn', 'indus', 'nox', 'rm', 'age', 'rad', 'tax', 'ptratio', 'black', 'lstat'], outputCol = 'features')\n",
    "vboston = vectorAssembler.transform(boston)\n",
    "vboston.show(3,truncate=False)"
   ]
  },
  {
   "cell_type": "markdown",
   "metadata": {
    "application/vnd.databricks.v1+cell": {
     "cellMetadata": {},
     "inputWidgets": {},
     "nuid": "4d5a9c8a-e0fd-4d34-8146-f3310ca7c157",
     "showTitle": false,
     "title": ""
    },
    "id": "OHk_uSKogu-z"
   },
   "source": [
    "Nos quedamos solo con las variables features y medv"
   ]
  },
  {
   "cell_type": "code",
   "execution_count": null,
   "metadata": {
    "application/vnd.databricks.v1+cell": {
     "cellMetadata": {
      "byteLimit": 2048000,
      "rowLimit": 10000
     },
     "inputWidgets": {},
     "nuid": "78bec999-3531-4fc1-ae36-98d3d4e7a64a",
     "showTitle": false,
     "title": ""
    },
    "executionInfo": {
     "elapsed": 36611,
     "status": "aborted",
     "timestamp": 1667056650537,
     "user": {
      "displayName": "Efraín Alberto Oviedo",
      "userId": "15887399601004413523"
     },
     "user_tz": 300
    },
    "id": "v8IAa6PRg3cJ"
   },
   "outputs": [],
   "source": [
    "vboston = vboston.select(['features', 'medv'])\n",
    "vboston.show(3, truncate=False)"
   ]
  },
  {
   "cell_type": "markdown",
   "metadata": {
    "application/vnd.databricks.v1+cell": {
     "cellMetadata": {},
     "inputWidgets": {},
     "nuid": "24cc6a85-8200-4cf1-a152-6cce2268e3f1",
     "showTitle": false,
     "title": ""
    },
    "id": "MoZJ52uKsRsV"
   },
   "source": [
    "Ahora veamos la correlación entre las variables predictoras"
   ]
  },
  {
   "cell_type": "code",
   "execution_count": null,
   "metadata": {
    "application/vnd.databricks.v1+cell": {
     "cellMetadata": {
      "byteLimit": 2048000,
      "rowLimit": 10000
     },
     "inputWidgets": {},
     "nuid": "edf475d8-57b6-4e84-8d34-d1d7e86ba60b",
     "showTitle": false,
     "title": ""
    },
    "executionInfo": {
     "elapsed": 36611,
     "status": "aborted",
     "timestamp": 1667056650538,
     "user": {
      "displayName": "Efraín Alberto Oviedo",
      "userId": "15887399601004413523"
     },
     "user_tz": 300
    },
    "id": "jvRlcKb2s15L"
   },
   "outputs": [],
   "source": [
    "matrix = Correlation.corr(vboston,\"features\")\n",
    "matrix.collect()[0][\"pearson({})\".format(\"features\")].values"
   ]
  },
  {
   "cell_type": "code",
   "execution_count": null,
   "metadata": {
    "application/vnd.databricks.v1+cell": {
     "cellMetadata": {
      "byteLimit": 2048000,
      "rowLimit": 10000
     },
     "inputWidgets": {},
     "nuid": "81ab075a-745d-4362-9279-d520b849ced0",
     "showTitle": false,
     "title": ""
    },
    "executionInfo": {
     "elapsed": 36610,
     "status": "aborted",
     "timestamp": 1667056650539,
     "user": {
      "displayName": "Efraín Alberto Oviedo",
      "userId": "15887399601004413523"
     },
     "user_tz": 300
    },
    "id": "q8fBkXrBwlQv"
   },
   "outputs": [],
   "source": [
    "print(\"Correlación entre tax y indus: \",boston.corr(\"tax\",\"indus\"))\n",
    "print(\"Correlación entre nox y indus: \",boston.corr(\"nox\",\"indus\"))\n",
    "print(\"Correlación entre nox y age: \",  boston.corr(\"nox\",\"age\"))\n",
    "print(\"Correlación entre tax y rad: \",  boston.corr(\"tax\",\"rad\"))"
   ]
  },
  {
   "cell_type": "markdown",
   "metadata": {
    "application/vnd.databricks.v1+cell": {
     "cellMetadata": {},
     "inputWidgets": {},
     "nuid": "46397839-f476-4e93-985d-d17318d3abbe",
     "showTitle": false,
     "title": ""
    },
    "id": "KPgxJpIT0c9L"
   },
   "source": [
    "Eliminemos las variables correlacionadas y creemos nuevamente el vector de características"
   ]
  },
  {
   "cell_type": "code",
   "execution_count": null,
   "metadata": {
    "application/vnd.databricks.v1+cell": {
     "cellMetadata": {
      "byteLimit": 2048000,
      "rowLimit": 10000
     },
     "inputWidgets": {},
     "nuid": "8dc44814-1ee7-4ba4-a742-3040934d00a5",
     "showTitle": false,
     "title": ""
    },
    "executionInfo": {
     "elapsed": 36608,
     "status": "aborted",
     "timestamp": 1667056650539,
     "user": {
      "displayName": "Efraín Alberto Oviedo",
      "userId": "15887399601004413523"
     },
     "user_tz": 300
    },
    "id": "oj-MoN-lzoNP"
   },
   "outputs": [],
   "source": [
    "boston=boston.drop(\"tax\",\"nox\")\n",
    "vectorAssembler = VectorAssembler(inputCols = \\\n",
    "    ['crim', 'zn', 'indus', 'rm', 'age', 'rad', 'ptratio', 'black', 'lstat'], outputCol = 'features')\n",
    "vboston = vectorAssembler.transform(boston)\n",
    "vboston = vboston.select(['features', 'medv'])\n",
    "vboston.show(3, truncate=False)"
   ]
  },
  {
   "cell_type": "markdown",
   "metadata": {
    "application/vnd.databricks.v1+cell": {
     "cellMetadata": {},
     "inputWidgets": {},
     "nuid": "c19d13c9-e445-4f9e-82a2-5cc6a859a21d",
     "showTitle": false,
     "title": ""
    },
    "id": "FJmyxSf3hXc5"
   },
   "source": [
    "Creamos los conjuntos de datos de entrenamiento y evaluación (Split)"
   ]
  },
  {
   "cell_type": "code",
   "execution_count": null,
   "metadata": {
    "application/vnd.databricks.v1+cell": {
     "cellMetadata": {
      "byteLimit": 2048000,
      "rowLimit": 10000
     },
     "inputWidgets": {},
     "nuid": "6cea4847-514d-42f0-a6d8-0e6b9aed56aa",
     "showTitle": false,
     "title": ""
    },
    "executionInfo": {
     "elapsed": 36607,
     "status": "aborted",
     "timestamp": 1667056650540,
     "user": {
      "displayName": "Efraín Alberto Oviedo",
      "userId": "15887399601004413523"
     },
     "user_tz": 300
    },
    "id": "If4wlrfChc4B"
   },
   "outputs": [],
   "source": [
    "(trainingData, testData) = vboston.randomSplit([0.7, 0.3])\n",
    "print(trainingData.count())\n",
    "print(testData.count())"
   ]
  },
  {
   "cell_type": "markdown",
   "metadata": {
    "application/vnd.databricks.v1+cell": {
     "cellMetadata": {},
     "inputWidgets": {},
     "nuid": "b6f2e692-adb3-439e-8781-05a01cacf314",
     "showTitle": false,
     "title": ""
    },
    "id": "LR8YXzbChxYa"
   },
   "source": [
    "**2. Modelar**"
   ]
  },
  {
   "cell_type": "markdown",
   "metadata": {
    "application/vnd.databricks.v1+cell": {
     "cellMetadata": {},
     "inputWidgets": {},
     "nuid": "dd4ea74d-564f-4db1-85c0-3ddae340d38c",
     "showTitle": false,
     "title": ""
    },
    "id": "tEeZ2kLjKuet"
   },
   "source": [
    "####**Regresión lineal**"
   ]
  },
  {
   "cell_type": "markdown",
   "metadata": {
    "application/vnd.databricks.v1+cell": {
     "cellMetadata": {},
     "inputWidgets": {},
     "nuid": "04274992-d66d-4009-b0d4-35846b2319fc",
     "showTitle": false,
     "title": ""
    },
    "id": "wNaw86lWKBDG"
   },
   "source": [
    "Permite evaluar la relación entre una variable dependiente (variable a predecir) y un conjunto de variables independientes (variables predictoras)\n",
    "\n",
    "\n",
    "$$Y = \\alpha + \\beta_1 X_1  +  \\beta_2 X_2 + ... + \\beta_n X_n + \\epsilon$$\n",
    "\n",
    "Donde,\n",
    "* Y: Variable a predecir\n",
    "* X: Variables predictoras (atributos)\n",
    "* alpha: Intercepto\n",
    "* beta: Pendiente\n",
    "* epsilon: Error\n",
    "\n",
    "Básicamente lo que se hace es encontrar la ecuación de la recta que mejor represente al conjunto de datos, de modo que se pueda utilizar dicha ecuación para la predicción de nuevos registros"
   ]
  },
  {
   "cell_type": "code",
   "execution_count": null,
   "metadata": {
    "application/vnd.databricks.v1+cell": {
     "cellMetadata": {
      "byteLimit": 2048000,
      "rowLimit": 10000
     },
     "inputWidgets": {},
     "nuid": "8bfb2c2f-6ee6-44dc-86a0-3d93ff6ade16",
     "showTitle": false,
     "title": ""
    },
    "executionInfo": {
     "elapsed": 36604,
     "status": "aborted",
     "timestamp": 1667056650540,
     "user": {
      "displayName": "Efraín Alberto Oviedo",
      "userId": "15887399601004413523"
     },
     "user_tz": 300
    },
    "id": "MMUDLzOyh0Ro"
   },
   "outputs": [],
   "source": [
    "from pyspark.ml.regression import LinearRegression\n",
    "\n",
    "lr = LinearRegression(featuresCol = 'features', labelCol='medv', maxIter=10, regParam=0.3, elasticNetParam=0.8)\n",
    "lr_model = lr.fit(trainingData)\n",
    "trainingSummary = lr_model.summary"
   ]
  },
  {
   "cell_type": "markdown",
   "metadata": {
    "application/vnd.databricks.v1+cell": {
     "cellMetadata": {},
     "inputWidgets": {},
     "nuid": "d17bfde9-cb60-4ed0-96d0-3758be28fdca",
     "showTitle": false,
     "title": ""
    },
    "id": "v4o-FVN83AG6"
   },
   "source": [
    "Veamos la predicción con los datos de entrenamiento"
   ]
  },
  {
   "cell_type": "code",
   "execution_count": null,
   "metadata": {
    "application/vnd.databricks.v1+cell": {
     "cellMetadata": {
      "byteLimit": 2048000,
      "rowLimit": 10000
     },
     "inputWidgets": {},
     "nuid": "a61ddf22-f6c6-4825-b97a-dfdcae9123de",
     "showTitle": false,
     "title": ""
    },
    "executionInfo": {
     "elapsed": 36603,
     "status": "aborted",
     "timestamp": 1667056650541,
     "user": {
      "displayName": "Efraín Alberto Oviedo",
      "userId": "15887399601004413523"
     },
     "user_tz": 300
    },
    "id": "BYyS8Bem2s0j"
   },
   "outputs": [],
   "source": [
    "trainingSummary.predictions.select(\"prediction\",\"medv\").show(5)"
   ]
  },
  {
   "cell_type": "markdown",
   "metadata": {
    "application/vnd.databricks.v1+cell": {
     "cellMetadata": {},
     "inputWidgets": {},
     "nuid": "743d4349-c66d-4b4c-91d2-7ef67ee9ba9e",
     "showTitle": false,
     "title": ""
    },
    "id": "K2S6RfkM3R3x"
   },
   "source": [
    "El método de regresión lineal construye la ecuación de la recta que mas se ajuste a los datos."
   ]
  },
  {
   "cell_type": "code",
   "execution_count": null,
   "metadata": {
    "application/vnd.databricks.v1+cell": {
     "cellMetadata": {
      "byteLimit": 2048000,
      "rowLimit": 10000
     },
     "inputWidgets": {},
     "nuid": "37b6fc9d-f871-4c11-82ca-f2a558ccec2a",
     "showTitle": false,
     "title": ""
    },
    "executionInfo": {
     "elapsed": 36602,
     "status": "aborted",
     "timestamp": 1667056650542,
     "user": {
      "displayName": "Efraín Alberto Oviedo",
      "userId": "15887399601004413523"
     },
     "user_tz": 300
    },
    "id": "h6YELOVs3hPC"
   },
   "outputs": [],
   "source": [
    "print(\"Coeficientes: \" + str(lr_model.coefficients))\n",
    "print(\"Intercepto: \" + str(lr_model.intercept))\n",
    "print(\"Variables:\")\n",
    "boston.columns"
   ]
  },
  {
   "cell_type": "markdown",
   "metadata": {
    "application/vnd.databricks.v1+cell": {
     "cellMetadata": {},
     "inputWidgets": {},
     "nuid": "836dd38f-7edb-4d06-97fc-10516eb49861",
     "showTitle": false,
     "title": ""
    },
    "id": "-mdlkUZXjwSg"
   },
   "source": [
    "**3. Evaluar**"
   ]
  },
  {
   "cell_type": "code",
   "execution_count": null,
   "metadata": {
    "application/vnd.databricks.v1+cell": {
     "cellMetadata": {
      "byteLimit": 2048000,
      "rowLimit": 10000
     },
     "inputWidgets": {},
     "nuid": "346b7918-a937-4916-94fb-4671e75a0b55",
     "showTitle": false,
     "title": ""
    },
    "executionInfo": {
     "elapsed": 36599,
     "status": "aborted",
     "timestamp": 1667056650543,
     "user": {
      "displayName": "Efraín Alberto Oviedo",
      "userId": "15887399601004413523"
     },
     "user_tz": 300
    },
    "id": "87rtcQGUj3af"
   },
   "outputs": [],
   "source": [
    "from pyspark.ml.evaluation import RegressionEvaluator\n",
    "\n",
    "lr_predictions = lr_model.transform(testData)\n",
    "lr_predictions.select(\"prediction\",\"medv\").show(5)\n",
    "\n",
    "lr_evaluator = RegressionEvaluator(predictionCol=\"prediction\", \\\n",
    "                 labelCol=\"medv\",metricName=\"r2\")\n",
    "print(\"Coeficiente de determinación = %g\" % lr_evaluator.evaluate(lr_predictions))"
   ]
  },
  {
   "cell_type": "code",
   "execution_count": null,
   "metadata": {
    "application/vnd.databricks.v1+cell": {
     "cellMetadata": {
      "byteLimit": 2048000,
      "rowLimit": 10000
     },
     "inputWidgets": {},
     "nuid": "fc87166f-baf0-48c6-b00c-5e6adf5971c8",
     "showTitle": false,
     "title": ""
    },
    "executionInfo": {
     "elapsed": 36598,
     "status": "aborted",
     "timestamp": 1667056650543,
     "user": {
      "displayName": "Efraín Alberto Oviedo",
      "userId": "15887399601004413523"
     },
     "user_tz": 300
    },
    "id": "xhd7H-FnlMnH"
   },
   "outputs": [],
   "source": [
    "test_result = lr_model.evaluate(testData)\n",
    "print(\"Error cuadrático medio  = %g\" % test_result.meanSquaredError)\n",
    "print(\"Raiz del Error cuadrático medio = %g\" % test_result.rootMeanSquaredError)\n",
    "print(\"Error medio absoluto  = %g\" % test_result.meanAbsoluteError)\n",
    "print(\"Coeficiente de determinación  = %g\" % test_result.r2)\n",
    "print(\"Coeficiente de determinación ajustado  = %g\" % test_result.r2adj)"
   ]
  },
  {
   "cell_type": "markdown",
   "metadata": {
    "application/vnd.databricks.v1+cell": {
     "cellMetadata": {},
     "inputWidgets": {},
     "nuid": "a2591cee-1ec8-4258-a599-01539a9164ea",
     "showTitle": false,
     "title": ""
    },
    "id": "htUKk--PK3CC"
   },
   "source": [
    "####**Árboles de decisión para regresión**"
   ]
  },
  {
   "cell_type": "markdown",
   "metadata": {
    "application/vnd.databricks.v1+cell": {
     "cellMetadata": {},
     "inputWidgets": {},
     "nuid": "e7c9e46d-5c97-4296-a51e-d589d85fc851",
     "showTitle": false,
     "title": ""
    },
    "id": "zAS-JanfJIL_"
   },
   "source": [
    "El método de árboles de decisión está disponible tanto para predecir números (árboles de regresión) como para predecir categorías (árboles de clasificación).\n",
    "\n",
    "Su funcionamiento se basa en representar el conjunto histórico de datos a través de un árbol en el que tendremos dos componentes:\n",
    "* Nodos: presentan una pregunta sobre algunos de los atributos y se genera una bifurcación a partir de la respuesta\n",
    "* Hojas: Están al final de cada rama y son los valores de la predicción\n",
    "\n",
    "\n",
    "Cuando se somete un registro al árbol de decisión, este recorre el árbol a través de las respuestas generadas en cada nodo, y al final llegará a una hoja que indica la predicción.\n",
    "\n",
    "En el caso de los árboles de regresión, la variable a predecir es numérica, es decir que el resultado final de la predicción será un número"
   ]
  },
  {
   "cell_type": "markdown",
   "metadata": {
    "application/vnd.databricks.v1+cell": {
     "cellMetadata": {},
     "inputWidgets": {},
     "nuid": "ec3a7c6e-cdad-422b-8c90-02898e949668",
     "showTitle": false,
     "title": ""
    },
    "id": "0IuFzl67m05Q"
   },
   "source": [
    "**Ejemplo: Predicción del precio de venta de una propiedad en Boston**"
   ]
  },
  {
   "cell_type": "markdown",
   "metadata": {
    "application/vnd.databricks.v1+cell": {
     "cellMetadata": {},
     "inputWidgets": {},
     "nuid": "42aaf2d8-4665-4f5f-8835-73bd3fb3923d",
     "showTitle": false,
     "title": ""
    },
    "id": "gVnwpGsVhA-b"
   },
   "source": [
    "**Modelar**"
   ]
  },
  {
   "cell_type": "code",
   "execution_count": null,
   "metadata": {
    "application/vnd.databricks.v1+cell": {
     "cellMetadata": {
      "byteLimit": 2048000,
      "rowLimit": 10000
     },
     "inputWidgets": {},
     "nuid": "036c0058-2570-42b9-970d-9909fe9378ce",
     "showTitle": false,
     "title": ""
    },
    "executionInfo": {
     "elapsed": 36597,
     "status": "aborted",
     "timestamp": 1667056650544,
     "user": {
      "displayName": "Efraín Alberto Oviedo",
      "userId": "15887399601004413523"
     },
     "user_tz": 300
    },
    "id": "82lQn7ymm-2L"
   },
   "outputs": [],
   "source": [
    "from pyspark.ml.regression import DecisionTreeRegressor\n",
    "dt = DecisionTreeRegressor(featuresCol ='features', labelCol = 'medv')\n",
    "dt_model = dt.fit(trainingData)"
   ]
  },
  {
   "cell_type": "markdown",
   "metadata": {
    "application/vnd.databricks.v1+cell": {
     "cellMetadata": {},
     "inputWidgets": {},
     "nuid": "e0b0a7e9-a8aa-4b26-b53f-60d0d6feae45",
     "showTitle": false,
     "title": ""
    },
    "id": "0b5FQby14rDi"
   },
   "source": [
    "Veamos la predicción con los datos de entrenamiento"
   ]
  },
  {
   "cell_type": "code",
   "execution_count": null,
   "metadata": {
    "application/vnd.databricks.v1+cell": {
     "cellMetadata": {
      "byteLimit": 2048000,
      "rowLimit": 10000
     },
     "inputWidgets": {},
     "nuid": "825a18c9-fab0-43a8-8fd4-679fe575d14f",
     "showTitle": false,
     "title": ""
    },
    "executionInfo": {
     "elapsed": 36595,
     "status": "aborted",
     "timestamp": 1667056650545,
     "user": {
      "displayName": "Efraín Alberto Oviedo",
      "userId": "15887399601004413523"
     },
     "user_tz": 300
    },
    "id": "B6I8D6iI4sza"
   },
   "outputs": [],
   "source": [
    "dt_model.transform(trainingData).select(\"prediction\",\"medv\").show(5)"
   ]
  },
  {
   "cell_type": "markdown",
   "metadata": {
    "application/vnd.databricks.v1+cell": {
     "cellMetadata": {},
     "inputWidgets": {},
     "nuid": "d7741c92-3516-4b83-b3c1-3617a7b34b00",
     "showTitle": false,
     "title": ""
    },
    "id": "rRdmIiA7hDGO"
   },
   "source": [
    "**Evaluar**"
   ]
  },
  {
   "cell_type": "code",
   "execution_count": null,
   "metadata": {
    "application/vnd.databricks.v1+cell": {
     "cellMetadata": {
      "byteLimit": 2048000,
      "rowLimit": 10000
     },
     "inputWidgets": {},
     "nuid": "244751b7-600e-486f-b53e-7a4a96f842ea",
     "showTitle": false,
     "title": ""
    },
    "executionInfo": {
     "elapsed": 36593,
     "status": "aborted",
     "timestamp": 1667056650545,
     "user": {
      "displayName": "Efraín Alberto Oviedo",
      "userId": "15887399601004413523"
     },
     "user_tz": 300
    },
    "id": "3WoC66bphEb_"
   },
   "outputs": [],
   "source": [
    "dt_predictions = dt_model.transform(testData)\n",
    "dt_predictions.select(\"prediction\",\"medv\").show(5)\n",
    "\n",
    "dt_evaluator = RegressionEvaluator(\n",
    "    labelCol=\"medv\", predictionCol=\"prediction\", metricName=\"r2\")\n",
    "print(\"Coeficiente de determinación = %g\" % dt_evaluator.evaluate(dt_predictions))"
   ]
  },
  {
   "cell_type": "markdown",
   "metadata": {
    "application/vnd.databricks.v1+cell": {
     "cellMetadata": {},
     "inputWidgets": {},
     "nuid": "1dff26d2-15c5-4b59-bdd6-f3369fb8dd3e",
     "showTitle": false,
     "title": ""
    },
    "id": "4OkygbOPnm4v"
   },
   "source": [
    "Veamos la importancia de las vaiables predictoras"
   ]
  },
  {
   "cell_type": "code",
   "execution_count": null,
   "metadata": {
    "application/vnd.databricks.v1+cell": {
     "cellMetadata": {
      "byteLimit": 2048000,
      "rowLimit": 10000
     },
     "inputWidgets": {},
     "nuid": "58548264-1ea7-4aac-bcd4-0dcf2c03934f",
     "showTitle": false,
     "title": ""
    },
    "executionInfo": {
     "elapsed": 36592,
     "status": "aborted",
     "timestamp": 1667056650546,
     "user": {
      "displayName": "Efraín Alberto Oviedo",
      "userId": "15887399601004413523"
     },
     "user_tz": 300
    },
    "id": "r5YSvSUsnwlC"
   },
   "outputs": [],
   "source": [
    "dt_model.featureImportances"
   ]
  },
  {
   "cell_type": "code",
   "execution_count": null,
   "metadata": {
    "application/vnd.databricks.v1+cell": {
     "cellMetadata": {
      "byteLimit": 2048000,
      "rowLimit": 10000
     },
     "inputWidgets": {},
     "nuid": "f478580c-8bab-4579-b9e4-e620c70bc88f",
     "showTitle": false,
     "title": ""
    },
    "executionInfo": {
     "elapsed": 36592,
     "status": "aborted",
     "timestamp": 1667056650547,
     "user": {
      "displayName": "Efraín Alberto Oviedo",
      "userId": "15887399601004413523"
     },
     "user_tz": 300
    },
    "id": "3a1THHbAn6Tu"
   },
   "outputs": [],
   "source": [
    "boston.columns"
   ]
  },
  {
   "cell_type": "markdown",
   "metadata": {
    "application/vnd.databricks.v1+cell": {
     "cellMetadata": {},
     "inputWidgets": {},
     "nuid": "7aad0ca3-e257-47ed-bf3f-9a1ec8e2fd83",
     "showTitle": false,
     "title": ""
    },
    "id": "t2wdD-W2Irqj"
   },
   "source": [
    "###**Predicción discreta o Clasificación**"
   ]
  },
  {
   "cell_type": "markdown",
   "metadata": {
    "application/vnd.databricks.v1+cell": {
     "cellMetadata": {},
     "inputWidgets": {},
     "nuid": "ae55b490-e268-4591-8ad5-cf74cb478ef6",
     "showTitle": false,
     "title": ""
    },
    "id": "WG00ebF2bNom"
   },
   "source": [
    "La clasificación permite predecir un evento numérico discreto, es decir que lo que pedimos ya no es un número sino una categoría, una cualidad.\n",
    "\n",
    "Se utiliza el conjunto histórico de datos donde se cuenta con una variable objetivo que es de tipo categórica. Con ese histórico de datos, se crea un modelo que aprenderá de los datos y permitirá predecir datos futuros"
   ]
  },
  {
   "cell_type": "markdown",
   "metadata": {
    "application/vnd.databricks.v1+cell": {
     "cellMetadata": {},
     "inputWidgets": {},
     "nuid": "ca510bd7-f35d-44cf-9d01-71d1dfc9cf25",
     "showTitle": false,
     "title": ""
    },
    "id": "D7ujBIeGbd-2"
   },
   "source": [
    "**Evaluación**"
   ]
  },
  {
   "cell_type": "markdown",
   "metadata": {
    "application/vnd.databricks.v1+cell": {
     "cellMetadata": {},
     "inputWidgets": {},
     "nuid": "bea4315c-3119-4a1a-b49e-9203fa0cec9d",
     "showTitle": false,
     "title": ""
    },
    "id": "L5WMsOpqVhAf"
   },
   "source": [
    "Teniendo en cuenta que la variable objetivo es categórica, contamos con la clase real a la que pertenece cada uno de los registros que hacen parte del histórico de datos.\n",
    "\n",
    "Por otro lado, el modelo arrojará como resultado una predicción sobre la clase a la que debe pertenecer cada registro. Usando la clase real y la predicción se construyen unas medidas de error que permiten evaluar la calidad del modelo. \n",
    "\n",
    "Estas medidas se construyen al identificar la cantidad de registros que quedaron clasificados correctamente es decir que la clase de la predicción y la clase real coinciden\n",
    "\n",
    "Con esta información se construye lo que se conoce como matriz de confusión"
   ]
  },
  {
   "cell_type": "markdown",
   "metadata": {
    "application/vnd.databricks.v1+cell": {
     "cellMetadata": {},
     "inputWidgets": {},
     "nuid": "22da1ec8-7589-4167-947c-4e7752862078",
     "showTitle": false,
     "title": ""
    },
    "id": "ZnCt3hbMYy2w"
   },
   "source": [
    "las cantidades relacionadas en la matriz de confusión nos permiten calcular esas medidas de error entre las cuales se destacan:\n",
    "\n",
    "* Precisión: $$p=\\frac{a}{a+b}$$\n",
    "* Cobertura: $$r=\\frac{a}{a+c}$$\n",
    "* Exactitud: $$e=\\frac{a+d}{a+b+c+d}$$\n",
    "* Media armónica: $$f=\\frac{2pr}{p+r}$$\n",
    "* Razón de verdaderos positivos: $$VPR=\\frac{a}{a+c}$$\n",
    "* Razón de falsos positivos: $$FPR=\\frac{b}{b+d}$$\n",
    "\n",
    "Donde,\n",
    "\n",
    "* a: Verdaderos positivos\n",
    "* b: Falsos positivos\n",
    "* c: Falsos negativos\n",
    "* d: Verdaderos negativos\n",
    "\n",
    "Con la razón de verdaderos positivos y la razón de falsos positivos se calcula el área ROC, medida utilizada ampliamente para evaluar modelos predictivos de clasificación."
   ]
  },
  {
   "cell_type": "markdown",
   "metadata": {
    "application/vnd.databricks.v1+cell": {
     "cellMetadata": {},
     "inputWidgets": {},
     "nuid": "bbe1bd33-0e0c-40de-8108-accec504d6f4",
     "showTitle": false,
     "title": ""
    },
    "id": "lo0KZGMJr4if"
   },
   "source": [
    "**Ejemplo: Medicamentos (drug.csv)**"
   ]
  },
  {
   "cell_type": "markdown",
   "metadata": {
    "application/vnd.databricks.v1+cell": {
     "cellMetadata": {},
     "inputWidgets": {},
     "nuid": "58f157f2-c0a7-4015-8738-c1a42daa9ad9",
     "showTitle": false,
     "title": ""
    },
    "id": "68sZIwD0sIGi"
   },
   "source": [
    "**1. Preparar**"
   ]
  },
  {
   "cell_type": "code",
   "execution_count": null,
   "metadata": {
    "application/vnd.databricks.v1+cell": {
     "cellMetadata": {
      "byteLimit": 2048000,
      "rowLimit": 10000
     },
     "inputWidgets": {},
     "nuid": "d45d94ce-dd6f-4b09-abdc-41eaeb002f60",
     "showTitle": false,
     "title": ""
    },
    "executionInfo": {
     "elapsed": 36581,
     "status": "aborted",
     "timestamp": 1667056650548,
     "user": {
      "displayName": "Efraín Alberto Oviedo",
      "userId": "15887399601004413523"
     },
     "user_tz": 300
    },
    "id": "KMpNMkfSo4li"
   },
   "outputs": [],
   "source": [
    "ruta=\"s3://mybucket9825/Entrada/drug.csv\"\n",
    "schema = StructType([StructField('Id', IntegerType(), True),\n",
    "                     StructField('Edad', IntegerType(), True),\n",
    "                     StructField('Sexo', StringType(), True),                  \n",
    "                     StructField('Presion', StringType(), True),      \n",
    "                     StructField('Colesterol', StringType(), True),\n",
    "                     StructField('Sodio', FloatType(), True),\n",
    "                     StructField('Potasio', FloatType(), True),\n",
    "                     StructField('Medicamento', StringType(), True)])\n",
    "data=spark.read.csv(ruta, header=True, schema=schema, sep=';')\n",
    "data.printSchema()\n",
    "data.show(10)"
   ]
  },
  {
   "cell_type": "markdown",
   "metadata": {
    "application/vnd.databricks.v1+cell": {
     "cellMetadata": {},
     "inputWidgets": {},
     "nuid": "b425f574-ca3a-4091-8cab-9c703fa0dbf0",
     "showTitle": false,
     "title": ""
    }
   },
   "source": [
    "Análisis de variables numéricas"
   ]
  },
  {
   "cell_type": "code",
   "execution_count": null,
   "metadata": {
    "application/vnd.databricks.v1+cell": {
     "cellMetadata": {
      "byteLimit": 2048000,
      "rowLimit": 10000
     },
     "inputWidgets": {},
     "nuid": "1189d137-21c4-4291-a4ba-b8add7ea2e1e",
     "showTitle": false,
     "title": ""
    }
   },
   "outputs": [],
   "source": [
    "data.describe(['Id','Edad','Sodio','Potasio']).show()"
   ]
  },
  {
   "cell_type": "markdown",
   "metadata": {
    "application/vnd.databricks.v1+cell": {
     "cellMetadata": {},
     "inputWidgets": {},
     "nuid": "3d3ec7be-6415-4c9e-960b-1ff243249eb6",
     "showTitle": false,
     "title": ""
    }
   },
   "source": [
    "Análisis de variables categóricas"
   ]
  },
  {
   "cell_type": "code",
   "execution_count": null,
   "metadata": {
    "application/vnd.databricks.v1+cell": {
     "cellMetadata": {
      "byteLimit": 2048000,
      "rowLimit": 10000
     },
     "inputWidgets": {},
     "nuid": "8c781cee-767b-42ae-b46f-4ce6bf59c095",
     "showTitle": false,
     "title": ""
    }
   },
   "outputs": [],
   "source": [
    "data.groupBy('Sexo').count().show()"
   ]
  },
  {
   "cell_type": "code",
   "execution_count": null,
   "metadata": {
    "application/vnd.databricks.v1+cell": {
     "cellMetadata": {
      "byteLimit": 2048000,
      "rowLimit": 10000
     },
     "inputWidgets": {},
     "nuid": "8a451529-2daa-4523-94f8-d3a3ce56cbd3",
     "showTitle": false,
     "title": ""
    }
   },
   "outputs": [],
   "source": [
    "data.groupBy('Presion').count().show()"
   ]
  },
  {
   "cell_type": "code",
   "execution_count": null,
   "metadata": {
    "application/vnd.databricks.v1+cell": {
     "cellMetadata": {
      "byteLimit": 2048000,
      "rowLimit": 10000
     },
     "inputWidgets": {},
     "nuid": "822f66a3-0ae5-4888-a89d-a0646377b7a5",
     "showTitle": false,
     "title": ""
    }
   },
   "outputs": [],
   "source": [
    "data.groupBy('Colesterol').count().show()"
   ]
  },
  {
   "cell_type": "code",
   "execution_count": null,
   "metadata": {
    "application/vnd.databricks.v1+cell": {
     "cellMetadata": {
      "byteLimit": 2048000,
      "rowLimit": 10000
     },
     "inputWidgets": {},
     "nuid": "c6d7e37f-4e59-4b09-a8ad-4fc677d51702",
     "showTitle": false,
     "title": ""
    }
   },
   "outputs": [],
   "source": [
    "data.groupBy('Medicamento').count().show()\n"
   ]
  },
  {
   "cell_type": "markdown",
   "metadata": {
    "application/vnd.databricks.v1+cell": {
     "cellMetadata": {},
     "inputWidgets": {},
     "nuid": "7623a740-8a56-48e3-ad44-908d35b9f698",
     "showTitle": false,
     "title": ""
    }
   },
   "source": [
    "Ahora vamos a resolver los problemas de calidad de datos"
   ]
  },
  {
   "cell_type": "code",
   "execution_count": null,
   "metadata": {
    "application/vnd.databricks.v1+cell": {
     "cellMetadata": {
      "byteLimit": 2048000,
      "rowLimit": 10000
     },
     "inputWidgets": {},
     "nuid": "29ec77c2-33e5-47fe-8361-a2769081d547",
     "showTitle": false,
     "title": ""
    }
   },
   "outputs": [],
   "source": [
    "data = data.withColumn('Sexo', functions.when(data.Sexo=='Mujer','F')\\\n",
    "                                                 .when(data.Sexo!='Mujer', data.Sexo))\n",
    "data = data.withColumn('Presion', functions.when(data.Presion=='Null','HIGH')\\\n",
    "                                                 .when(data.Presion!='Null', data.Presion))\n",
    "data.groupBy('Sexo').count().show()\n",
    "data.groupBy('Presion').count().show()"
   ]
  },
  {
   "cell_type": "code",
   "execution_count": null,
   "metadata": {
    "application/vnd.databricks.v1+cell": {
     "cellMetadata": {
      "byteLimit": 2048000,
      "rowLimit": 10000
     },
     "inputWidgets": {},
     "nuid": "9c2554d2-7893-4e69-a62c-f8ec454baa21",
     "showTitle": false,
     "title": ""
    }
   },
   "outputs": [],
   "source": [
    "data = data.withColumn('Edad', functions.when(data.Edad>100,50)\\\n",
    "                                                 .when(data.Edad<=100, data.Edad))\n",
    "data.describe(['Edad']).show()\n"
   ]
  },
  {
   "cell_type": "markdown",
   "metadata": {
    "application/vnd.databricks.v1+cell": {
     "cellMetadata": {},
     "inputWidgets": {},
     "nuid": "ccc49acd-1cf4-41c7-ae2b-a901c47e5dc1",
     "showTitle": false,
     "title": ""
    }
   },
   "source": [
    "Eliminemos duplicados y variables irrelevantes"
   ]
  },
  {
   "cell_type": "code",
   "execution_count": null,
   "metadata": {
    "application/vnd.databricks.v1+cell": {
     "cellMetadata": {
      "byteLimit": 2048000,
      "rowLimit": 10000
     },
     "inputWidgets": {},
     "nuid": "d0653d02-55dd-4d2a-bf9a-d5d3a3767a57",
     "showTitle": false,
     "title": ""
    },
    "executionInfo": {
     "elapsed": 36580,
     "status": "aborted",
     "timestamp": 1667056650549,
     "user": {
      "displayName": "Efraín Alberto Oviedo",
      "userId": "15887399601004413523"
     },
     "user_tz": 300
    },
    "id": "9hFpn-PDr4Jf"
   },
   "outputs": [],
   "source": [
    "data=data.dropDuplicates(['Id'])\n",
    "data=data.drop('Id')"
   ]
  },
  {
   "cell_type": "markdown",
   "metadata": {
    "application/vnd.databricks.v1+cell": {
     "cellMetadata": {},
     "inputWidgets": {},
     "nuid": "068a0a4e-472c-4311-ace4-ac5f9edff668",
     "showTitle": false,
     "title": ""
    }
   },
   "source": [
    "Convertimos las variables categóricas a numéricas"
   ]
  },
  {
   "cell_type": "code",
   "execution_count": null,
   "metadata": {
    "application/vnd.databricks.v1+cell": {
     "cellMetadata": {
      "byteLimit": 2048000,
      "rowLimit": 10000
     },
     "inputWidgets": {},
     "nuid": "9ba09da9-e3dc-47fc-94e6-e28952c7d983",
     "showTitle": false,
     "title": ""
    }
   },
   "outputs": [],
   "source": [
    "data = data.withColumn('SexoNum', functions.when(data.Sexo=='F',0)\\\n",
    "                                .when(data.Sexo=='M',1)).\\\n",
    "                    withColumn('PresionNum', functions.when(data.Presion=='LOW',0)\\\n",
    "                                .when(data.Presion=='NORMAL',1) \\\n",
    "                                .when(data.Presion=='HIGH',2)).\\\n",
    "                    withColumn('ColesterolNum', functions.when(data.Colesterol=='NORMAL',0)\\\n",
    "                                .when(data.Colesterol=='HIGH',1)).\\\n",
    "                    withColumn('MedicamentoNum', functions.when(data.Medicamento=='drugA',0)\\\n",
    "                                .when(data.Medicamento=='drugB',1) \\\n",
    "                                .when(data.Medicamento=='drugC',2) \\\n",
    "                                .when(data.Medicamento=='drugX',3) \\\n",
    "                                .when(data.Medicamento=='drugY',4)) \n",
    "\n",
    "data.show()"
   ]
  },
  {
   "cell_type": "code",
   "execution_count": null,
   "metadata": {
    "application/vnd.databricks.v1+cell": {
     "cellMetadata": {},
     "inputWidgets": {},
     "nuid": "36dab757-68a1-4445-8794-bd64207fead5",
     "showTitle": false,
     "title": ""
    }
   },
   "outputs": [],
   "source": [
    "Nos quedamos solo con las variables numéricas"
   ]
  },
  {
   "cell_type": "code",
   "execution_count": null,
   "metadata": {
    "application/vnd.databricks.v1+cell": {
     "cellMetadata": {
      "byteLimit": 2048000,
      "rowLimit": 10000
     },
     "inputWidgets": {},
     "nuid": "0966085d-7ab6-482d-9f8c-0a4f88d042fa",
     "showTitle": false,
     "title": ""
    }
   },
   "outputs": [],
   "source": [
    "dataNum=data\n",
    "dataNum=dataNum.select(['Edad','SexoNum','PresionNum','ColesterolNum','Sodio','Potasio','MedicamentoNum'])\n",
    "dataNum.printSchema()\n",
    "dataNum.show(10)"
   ]
  },
  {
   "cell_type": "markdown",
   "metadata": {
    "application/vnd.databricks.v1+cell": {
     "cellMetadata": {},
     "inputWidgets": {},
     "nuid": "d1812437-842d-403e-9eb3-1b9de1e9f7f6",
     "showTitle": false,
     "title": ""
    }
   },
   "source": [
    "Creamos vector de características"
   ]
  },
  {
   "cell_type": "code",
   "execution_count": null,
   "metadata": {
    "application/vnd.databricks.v1+cell": {
     "cellMetadata": {
      "byteLimit": 2048000,
      "rowLimit": 10000
     },
     "inputWidgets": {},
     "nuid": "c322e687-0103-4ad7-b8f8-140e08d84b2e",
     "showTitle": false,
     "title": ""
    },
    "executionInfo": {
     "elapsed": 36578,
     "status": "aborted",
     "timestamp": 1667056650550,
     "user": {
      "displayName": "Efraín Alberto Oviedo",
      "userId": "15887399601004413523"
     },
     "user_tz": 300
    },
    "id": "wk3qGd8Wv_Zn"
   },
   "outputs": [],
   "source": [
    "vectorAssembler = VectorAssembler(inputCols = \\\n",
    "    ['Edad', 'SexoNum', 'PresionNum', 'ColesterolNum', 'Sodio','Potasio'], outputCol = 'features')\n",
    "vest = vectorAssembler.transform(dataNum)\n",
    "vest = vest.select(['features', 'MedicamentoNum'])\n",
    "vest.show(10, truncate=False)\n"
   ]
  },
  {
   "cell_type": "markdown",
   "metadata": {
    "application/vnd.databricks.v1+cell": {
     "cellMetadata": {},
     "inputWidgets": {},
     "nuid": "000d8d8d-af8a-4ae6-a57d-1c782922993c",
     "showTitle": false,
     "title": ""
    },
    "id": "LgqVcUwXv32e"
   },
   "source": [
    "Creamos los conjuntos de datos de entrenamiento y evaluación (Split)"
   ]
  },
  {
   "cell_type": "code",
   "execution_count": null,
   "metadata": {
    "application/vnd.databricks.v1+cell": {
     "cellMetadata": {
      "byteLimit": 2048000,
      "rowLimit": 10000
     },
     "inputWidgets": {},
     "nuid": "565575ab-b0a7-4a1a-89ae-6c838dcb65a8",
     "showTitle": false,
     "title": ""
    },
    "executionInfo": {
     "elapsed": 37575,
     "status": "aborted",
     "timestamp": 1667056651549,
     "user": {
      "displayName": "Efraín Alberto Oviedo",
      "userId": "15887399601004413523"
     },
     "user_tz": 300
    },
    "id": "snd9vjrUpKV1"
   },
   "outputs": [],
   "source": [
    "(trainingData, testData) = vest.randomSplit([0.7, 0.3])\n",
    "print(trainingData.count())\n",
    "print(testData.count())"
   ]
  },
  {
   "cell_type": "markdown",
   "metadata": {
    "application/vnd.databricks.v1+cell": {
     "cellMetadata": {},
     "inputWidgets": {},
     "nuid": "97e0bb6f-8a4e-4c43-ad22-6607112d7920",
     "showTitle": false,
     "title": ""
    },
    "id": "yq1qWnpfs8WP"
   },
   "source": [
    "**2. Modelar**"
   ]
  },
  {
   "cell_type": "markdown",
   "metadata": {
    "application/vnd.databricks.v1+cell": {
     "cellMetadata": {},
     "inputWidgets": {},
     "nuid": "8ba73525-66ad-412a-8723-660a33bf211a",
     "showTitle": false,
     "title": ""
    },
    "id": "OomSEZ1_LX4r"
   },
   "source": [
    "####**Regresión Logística**"
   ]
  },
  {
   "cell_type": "markdown",
   "metadata": {
    "application/vnd.databricks.v1+cell": {
     "cellMetadata": {},
     "inputWidgets": {},
     "nuid": "f9245151-1d05-4db4-b1a4-dce4edff32ca",
     "showTitle": false,
     "title": ""
    },
    "id": "CZ4UOWyIbQPO"
   },
   "source": [
    "El funcionamiento es similar a la regresión lineal, donde se calculaba la ecuación de la recta que mejor represente al conjunto de datos con el fin de predecir una variable numérica.\n",
    "\n",
    "La regresión logística aplica ese principio, pero teniendo en cuenta que la variable a predecir es categórica y puede tener n categorías,\n",
    "lo que propone es calcular las ecuaciones de n rectas, una para cada categoría"
   ]
  },
  {
   "cell_type": "code",
   "execution_count": null,
   "metadata": {
    "application/vnd.databricks.v1+cell": {
     "cellMetadata": {
      "byteLimit": 2048000,
      "rowLimit": 10000
     },
     "inputWidgets": {},
     "nuid": "f54fd226-e24c-4d1f-ae68-dbb84b39f287",
     "showTitle": false,
     "title": ""
    },
    "executionInfo": {
     "elapsed": 37574,
     "status": "aborted",
     "timestamp": 1667056651550,
     "user": {
      "displayName": "Efraín Alberto Oviedo",
      "userId": "15887399601004413523"
     },
     "user_tz": 300
    },
    "id": "ToOd12tGpVVe"
   },
   "outputs": [],
   "source": [
    "from pyspark.ml.classification import LogisticRegression\n",
    "lr = LogisticRegression(labelCol=\"MedicamentoNum\", featuresCol=\"features\",maxIter=10)\n",
    "lr_model=lr.fit(trainingData)"
   ]
  },
  {
   "cell_type": "code",
   "execution_count": null,
   "metadata": {
    "application/vnd.databricks.v1+cell": {
     "cellMetadata": {
      "byteLimit": 2048000,
      "rowLimit": 10000
     },
     "inputWidgets": {},
     "nuid": "91395030-c784-4609-b98c-00b94e073020",
     "showTitle": false,
     "title": ""
    },
    "executionInfo": {
     "elapsed": 37572,
     "status": "aborted",
     "timestamp": 1667056651550,
     "user": {
      "displayName": "Efraín Alberto Oviedo",
      "userId": "15887399601004413523"
     },
     "user_tz": 300
    },
    "id": "noGeb7_4HGdi"
   },
   "outputs": [],
   "source": [
    "trainingSummary = lr_model.summary\n",
    "trainingSummary.predictions.select('MedicamentoNum','prediction','probability').show(5, truncate=False)"
   ]
  },
  {
   "cell_type": "code",
   "execution_count": null,
   "metadata": {
    "application/vnd.databricks.v1+cell": {
     "cellMetadata": {
      "byteLimit": 2048000,
      "rowLimit": 10000
     },
     "inputWidgets": {},
     "nuid": "7adaed7a-e03d-46ad-bc1a-13e99bdc3a1d",
     "showTitle": false,
     "title": ""
    },
    "executionInfo": {
     "elapsed": 37571,
     "status": "aborted",
     "timestamp": 1667056651551,
     "user": {
      "displayName": "Efraín Alberto Oviedo",
      "userId": "15887399601004413523"
     },
     "user_tz": 300
    },
    "id": "8IDsniXIGVSj"
   },
   "outputs": [],
   "source": [
    "print(\"Coeficientes: \" + str(lr_model.coefficientMatrix))\n",
    "print(\"Intercepto: \" + str(lr_model.interceptVector))"
   ]
  },
  {
   "cell_type": "markdown",
   "metadata": {
    "application/vnd.databricks.v1+cell": {
     "cellMetadata": {},
     "inputWidgets": {},
     "nuid": "f383876b-0ffc-4026-972d-4f3c3b2e71db",
     "showTitle": false,
     "title": ""
    },
    "id": "CwtdMZXGyQFC"
   },
   "source": [
    "**3. Evaluar**"
   ]
  },
  {
   "cell_type": "code",
   "execution_count": null,
   "metadata": {
    "application/vnd.databricks.v1+cell": {
     "cellMetadata": {
      "byteLimit": 2048000,
      "rowLimit": 10000
     },
     "inputWidgets": {},
     "nuid": "0c258cc9-9b9c-4839-b398-37712c57e4c9",
     "showTitle": false,
     "title": ""
    },
    "executionInfo": {
     "elapsed": 37566,
     "status": "aborted",
     "timestamp": 1667056651551,
     "user": {
      "displayName": "Efraín Alberto Oviedo",
      "userId": "15887399601004413523"
     },
     "user_tz": 300
    },
    "id": "Aw7m92CzyVqz"
   },
   "outputs": [],
   "source": [
    "predict_test=lr_model.transform(testData)\n",
    "predict_test.select('MedicamentoNum','prediction').show(5)"
   ]
  },
  {
   "cell_type": "code",
   "execution_count": null,
   "metadata": {
    "scrolled": true
   },
   "outputs": [],
   "source": [
    "Veamos la matriz de confusion"
   ]
  },
  {
   "cell_type": "code",
   "execution_count": null,
   "metadata": {},
   "outputs": [],
   "source": [
    "from pyspark.mllib.evaluation import MulticlassMetrics\n",
    "\n",
    "preds_and_labels = predict_test.select(['prediction','MedicamentoNum']).withColumn('MedicamentoNum', col('MedicamentoNum').cast(FloatType())).orderBy('prediction')\n",
    "\n",
    "metrics = MulticlassMetrics(preds_and_labels.rdd.map(tuple))\n",
    "print(metrics.confusionMatrix())"
   ]
  },
  {
   "cell_type": "code",
   "execution_count": null,
   "metadata": {},
   "outputs": [],
   "source": [
    "Veamos otras medidas de evaluacion"
   ]
  },
  {
   "cell_type": "code",
   "execution_count": null,
   "metadata": {},
   "outputs": [],
   "source": [
    "print(\"Accuracy: \",metrics.accuracy)\n",
    "print(\"Precision: \",metrics.precision(1.0))\n",
    "print(\"Recall: \",metrics.recall(1.0))\n",
    "print(\"F1\", metrics.fMeasure(1.0,1.0))"
   ]
  },
  {
   "cell_type": "markdown",
   "metadata": {
    "application/vnd.databricks.v1+cell": {
     "cellMetadata": {},
     "inputWidgets": {},
     "nuid": "4d71926f-98bd-4b01-bc5e-7a215a755a64",
     "showTitle": false,
     "title": ""
    },
    "id": "fXMCOXfpLRaa"
   },
   "source": [
    "####**Árboles de decisión para clasificación**"
   ]
  },
  {
   "cell_type": "markdown",
   "metadata": {
    "application/vnd.databricks.v1+cell": {
     "cellMetadata": {},
     "inputWidgets": {},
     "nuid": "fe2a5b3c-9a47-4269-9ff1-6486a3315b68",
     "showTitle": false,
     "title": ""
    },
    "id": "PvbAuvUBbRWK"
   },
   "source": [
    "El funcionamiento es similar a los árboles de regresión, solo que en este caso la variable a predecir es categórica.\n",
    "\n",
    "A partir del conjunto histórico de datos se construye en árbol que tiene en sus nodos una pregunta sobre alguno de los atributos y en las hojas alguna de las categorías de la variable objetivo"
   ]
  },
  {
   "cell_type": "markdown",
   "metadata": {
    "application/vnd.databricks.v1+cell": {
     "cellMetadata": {},
     "inputWidgets": {},
     "nuid": "d27a0e0f-5145-4b2a-897a-1e8f5d990f85",
     "showTitle": false,
     "title": ""
    },
    "id": "JPxJRJ0_Livb"
   },
   "source": [
    "**Modelar**"
   ]
  },
  {
   "cell_type": "code",
   "execution_count": null,
   "metadata": {
    "application/vnd.databricks.v1+cell": {
     "cellMetadata": {
      "byteLimit": 2048000,
      "rowLimit": 10000
     },
     "inputWidgets": {},
     "nuid": "cc2c38b6-0dfc-4be8-88bb-16497b091c9a",
     "showTitle": false,
     "title": ""
    },
    "executionInfo": {
     "elapsed": 37564,
     "status": "aborted",
     "timestamp": 1667056651552,
     "user": {
      "displayName": "Efraín Alberto Oviedo",
      "userId": "15887399601004413523"
     },
     "user_tz": 300
    },
    "id": "YXZv6cqoLnI4"
   },
   "outputs": [],
   "source": [
    "from pyspark.ml.classification import DecisionTreeClassifier\n",
    "dt = DecisionTreeClassifier(labelCol=\"MedicamentoNum\", featuresCol=\"features\")\n",
    "dt_model=dt.fit(trainingData)"
   ]
  },
  {
   "cell_type": "code",
   "execution_count": null,
   "metadata": {
    "application/vnd.databricks.v1+cell": {
     "cellMetadata": {
      "byteLimit": 2048000,
      "rowLimit": 10000
     },
     "inputWidgets": {},
     "nuid": "c645d22e-64e9-4fe4-9d25-286e7de06750",
     "showTitle": false,
     "title": ""
    },
    "executionInfo": {
     "elapsed": 37562,
     "status": "aborted",
     "timestamp": 1667056651552,
     "user": {
      "displayName": "Efraín Alberto Oviedo",
      "userId": "15887399601004413523"
     },
     "user_tz": 300
    },
    "id": "WLL356u8Oe5S"
   },
   "outputs": [],
   "source": [
    "predict_train = dt_model.transform(trainingData)\n",
    "predict_train.select('MedicamentoNum','prediction').show(5)"
   ]
  },
  {
   "cell_type": "markdown",
   "metadata": {
    "application/vnd.databricks.v1+cell": {
     "cellMetadata": {},
     "inputWidgets": {},
     "nuid": "9e93b241-5c7e-4e50-a1a0-a69705b93cb0",
     "showTitle": false,
     "title": ""
    },
    "id": "JuIFRfiwLlZf"
   },
   "source": [
    "**Evaluar**"
   ]
  },
  {
   "cell_type": "code",
   "execution_count": null,
   "metadata": {
    "application/vnd.databricks.v1+cell": {
     "cellMetadata": {
      "byteLimit": 2048000,
      "rowLimit": 10000
     },
     "inputWidgets": {},
     "nuid": "7ab112f9-ce2e-4511-b977-2f704ca19128",
     "showTitle": false,
     "title": ""
    },
    "executionInfo": {
     "elapsed": 37562,
     "status": "aborted",
     "timestamp": 1667056651553,
     "user": {
      "displayName": "Efraín Alberto Oviedo",
      "userId": "15887399601004413523"
     },
     "user_tz": 300
    },
    "id": "Q0qD-p-hPOAx",
    "tags": []
   },
   "outputs": [],
   "source": [
    "predict_test = dt_model.transform(testData)"
   ]
  },
  {
   "cell_type": "code",
   "execution_count": null,
   "metadata": {
    "application/vnd.databricks.v1+cell": {
     "cellMetadata": {
      "byteLimit": 2048000,
      "rowLimit": 10000
     },
     "inputWidgets": {},
     "nuid": "4237ce17-93ae-4db5-acda-a7c7b547cce3",
     "showTitle": false,
     "title": ""
    }
   },
   "outputs": [],
   "source": [
    "preds_and_labels = predict_test.select(['prediction','MedicamentoNum']).withColumn('MedicamentoNum', col('MedicamentoNum').cast(FloatType())).orderBy('prediction')\n",
    "\n",
    "metrics = MulticlassMetrics(preds_and_labels.rdd.map(tuple))\n",
    "print(metrics.confusionMatrix())"
   ]
  },
  {
   "cell_type": "code",
   "execution_count": null,
   "metadata": {},
   "outputs": [],
   "source": [
    "print(\"Accuracy: \",metrics.accuracy)\n",
    "print(\"Precision: \",metrics.precision(1.0))\n",
    "print(\"Recall: \",metrics.recall(1.0))\n",
    "print(\"F1\", metrics.fMeasure(1.0,1.0))"
   ]
  },
  {
   "cell_type": "markdown",
   "metadata": {
    "application/vnd.databricks.v1+cell": {
     "cellMetadata": {},
     "inputWidgets": {},
     "nuid": "e83269f8-65bb-4e68-9a4c-00d2383ca4d2",
     "showTitle": false,
     "title": ""
    }
   },
   "source": [
    "##**Aprendizaje NO Supervisado**"
   ]
  },
  {
   "cell_type": "markdown",
   "metadata": {
    "application/vnd.databricks.v1+cell": {
     "cellMetadata": {},
     "inputWidgets": {},
     "nuid": "fbac2c62-5855-4ec6-9019-01d2e820be36",
     "showTitle": false,
     "title": ""
    }
   },
   "source": [
    "###**Clustering**"
   ]
  },
  {
   "cell_type": "markdown",
   "metadata": {
    "application/vnd.databricks.v1+cell": {
     "cellMetadata": {},
     "inputWidgets": {},
     "nuid": "fff169a9-ad02-4ef5-ba4e-d87beed8058a",
     "showTitle": false,
     "title": ""
    }
   },
   "source": [
    "En el aprendizaje No Supervisado, NO se cuenta con datos históricos previamente etiquetados para la etapa de entrenamiento, en su lugar se dispone de datos actuales y lo que se haces es describir la estructura de esos datos actuales mediante un análisis exploratorio con el fin de facilitar el entendimiento de los datos."
   ]
  },
  {
   "cell_type": "markdown",
   "metadata": {
    "application/vnd.databricks.v1+cell": {
     "cellMetadata": {},
     "inputWidgets": {},
     "nuid": "17ef8d18-d862-4bf7-bc05-8a776f924f34",
     "showTitle": false,
     "title": ""
    }
   },
   "source": [
    "Su objetivo es agrupar un conjunto de datos heterogéneo en grupos de datos homogéneos. En principio cada registro (fila) del conjunto de datos es diferente de los demás, por eso decimos que es heterogéneo, pero puede tener cierta similitud a un subconjunto de registros y es ahi donde se genera la agrupación, siendo cada subconjunto de datos (clúster) diferente a los demás subconjuntos.\n",
    "\n",
    "La similaridad de los registros se expresa como una medida de distancia, de modo que un par de registros que se encuentre distante implicará que son diferentes, mientras que registros cercanos diremos que son similares\n",
    "\n",
    "Dentro del **ciclo de vida** del Clustering se encuentran las siguientes etapas:\n",
    "* Aprendizaje: Crear el modelo\n",
    "* Evaluación: Evaluar el modelo\n",
    "* Perfilamiento: Entender las características que definen a cada clúster (describir el centroide)"
   ]
  },
  {
   "cell_type": "markdown",
   "metadata": {
    "application/vnd.databricks.v1+cell": {
     "cellMetadata": {},
     "inputWidgets": {},
     "nuid": "5eea70e1-629d-45ea-b427-b50de0e4e331",
     "showTitle": false,
     "title": ""
    }
   },
   "source": [
    "**Evaluación**"
   ]
  },
  {
   "cell_type": "markdown",
   "metadata": {
    "application/vnd.databricks.v1+cell": {
     "cellMetadata": {},
     "inputWidgets": {},
     "nuid": "11032e79-97ae-40b3-b3e7-6293c21bf40b",
     "showTitle": false,
     "title": ""
    }
   },
   "source": [
    "La evaluación del Clustering se basa en la comparación de dos medidas, estas medidas son:\n",
    "* Cohesión o compacticidad: promedio de distancia de cada elemento a su centroide (distancia dentro del clúster)\n",
    "* Separabilidad: promedio de distancias entre los centroides de los clústers (distancia entre clústers)\n",
    "\n",
    "La comparación de estas dos medidas se expresa mediante índices, los mas conocidos son:\n",
    "\n",
    "* Dunn\n",
    "* Davies-Bouldin\n",
    "* Silueta"
   ]
  },
  {
   "cell_type": "markdown",
   "metadata": {
    "application/vnd.databricks.v1+cell": {
     "cellMetadata": {},
     "inputWidgets": {},
     "nuid": "3fc5d0bf-a71d-4cb9-8fdc-8a2d08831b92",
     "showTitle": false,
     "title": ""
    }
   },
   "source": [
    "**Ejemplo: Titanic**"
   ]
  },
  {
   "cell_type": "code",
   "execution_count": null,
   "metadata": {
    "application/vnd.databricks.v1+cell": {
     "cellMetadata": {
      "byteLimit": 2048000,
      "rowLimit": 10000
     },
     "inputWidgets": {},
     "nuid": "0a5203f2-2b59-452d-9285-6380a8d43501",
     "showTitle": false,
     "title": ""
    }
   },
   "outputs": [],
   "source": [
    "ruta=\"s3://mybucket9825/Entrada/titanic.csv\"\n",
    "titanic=spark.read.csv(ruta, header=True,  sep=';')\n",
    "titanic.show(5)"
   ]
  },
  {
   "cell_type": "code",
   "execution_count": null,
   "metadata": {
    "application/vnd.databricks.v1+cell": {
     "cellMetadata": {
      "byteLimit": 2048000,
      "rowLimit": 10000
     },
     "inputWidgets": {},
     "nuid": "b8950612-5049-4850-975d-8c2772836634",
     "showTitle": false,
     "title": ""
    }
   },
   "outputs": [],
   "source": [
    "titanicNum = titanic.withColumn('ClaseNum', functions.when(titanic.Clase=='Tripulacion',0)\\\n",
    "                                .when(titanic.Clase=='Primera',1)\\\n",
    "                                .when(titanic.Clase=='Segunda',2)\\\n",
    "                                .when(titanic.Clase=='Tercera',3)).\\\n",
    "                    withColumn('EdadNum', functions.when(titanic.Edad=='Adulto',0)\\\n",
    "                                .when(titanic.Edad=='Nino',1)).\\\n",
    "                    withColumn('SexoNum', functions.when(titanic.Sexo=='Hombre',0)\\\n",
    "                                .when(titanic.Sexo=='Mujer',1)).\\\n",
    "                    withColumn('SobrevivioNum', functions.when(titanic.Sobrevivio=='No',0)\\\n",
    "                                .when(titanic.Sobrevivio=='Si',1))\n",
    "\n",
    "titanicNum.distinct().show()"
   ]
  },
  {
   "cell_type": "markdown",
   "metadata": {
    "application/vnd.databricks.v1+cell": {
     "cellMetadata": {},
     "inputWidgets": {},
     "nuid": "ba6b080a-0f6d-4636-bec0-b36612a08008",
     "showTitle": false,
     "title": ""
    }
   },
   "source": [
    "Seleccionamos solo las variables numéricas"
   ]
  },
  {
   "cell_type": "code",
   "execution_count": null,
   "metadata": {
    "application/vnd.databricks.v1+cell": {
     "cellMetadata": {
      "byteLimit": 2048000,
      "rowLimit": 10000
     },
     "inputWidgets": {},
     "nuid": "6dc7ea85-adb5-4940-bd5c-e8a27a36992b",
     "showTitle": false,
     "title": ""
    }
   },
   "outputs": [],
   "source": [
    "titanicNum=titanicNum.select('ClaseNum', 'EdadNum', 'SexoNum', 'SobrevivioNum')\n",
    "titanicNum.distinct().show()"
   ]
  },
  {
   "cell_type": "code",
   "execution_count": null,
   "metadata": {
    "application/vnd.databricks.v1+cell": {
     "cellMetadata": {
      "byteLimit": 2048000,
      "rowLimit": 10000
     },
     "inputWidgets": {},
     "nuid": "a0b096f7-22d4-4ddb-b074-6a2d80548299",
     "showTitle": false,
     "title": ""
    }
   },
   "outputs": [],
   "source": [
    "titanicNum.printSchema()"
   ]
  },
  {
   "cell_type": "markdown",
   "metadata": {
    "application/vnd.databricks.v1+cell": {
     "cellMetadata": {},
     "inputWidgets": {},
     "nuid": "edbe899a-cda7-4945-b869-b713cdc35694",
     "showTitle": false,
     "title": ""
    }
   },
   "source": [
    "Construimos el vector de características"
   ]
  },
  {
   "cell_type": "code",
   "execution_count": null,
   "metadata": {
    "application/vnd.databricks.v1+cell": {
     "cellMetadata": {
      "byteLimit": 2048000,
      "rowLimit": 10000
     },
     "inputWidgets": {},
     "nuid": "f250bfe7-4f5e-45d1-b872-c0536e792a51",
     "showTitle": false,
     "title": ""
    }
   },
   "outputs": [],
   "source": [
    "from pyspark.ml.feature import VectorAssembler\n",
    "vectorAssembler = VectorAssembler(inputCols = titanicNum.columns, outputCol = 'features')\n",
    "vdata = vectorAssembler.transform(titanicNum)\n",
    "vdata.cache()\n",
    "vdata.show(5)"
   ]
  },
  {
   "cell_type": "markdown",
   "metadata": {
    "application/vnd.databricks.v1+cell": {
     "cellMetadata": {},
     "inputWidgets": {},
     "nuid": "f544c8ba-3d65-49bf-99f2-00c6bcfa1d7d",
     "showTitle": false,
     "title": ""
    }
   },
   "source": [
    "**Modelar**"
   ]
  },
  {
   "cell_type": "markdown",
   "metadata": {
    "application/vnd.databricks.v1+cell": {
     "cellMetadata": {},
     "inputWidgets": {},
     "nuid": "fca65002-3f80-4b89-a516-e5c1a6fecefc",
     "showTitle": false,
     "title": ""
    }
   },
   "source": [
    "####**K-means**"
   ]
  },
  {
   "cell_type": "markdown",
   "metadata": {
    "application/vnd.databricks.v1+cell": {
     "cellMetadata": {},
     "inputWidgets": {},
     "nuid": "e4280805-aabe-4b6d-9f2a-0475cf41d605",
     "showTitle": false,
     "title": ""
    }
   },
   "source": [
    "Divide el conjunto de datos en un número predefinido de grupos k. Es el método más comúnmente utilizado, la idea del método es definir k centroides, uno por clúster, y los datos son asociados al centroide más cercano."
   ]
  },
  {
   "cell_type": "code",
   "execution_count": null,
   "metadata": {
    "application/vnd.databricks.v1+cell": {
     "cellMetadata": {
      "byteLimit": 2048000,
      "rowLimit": 10000
     },
     "inputWidgets": {},
     "nuid": "4bb77822-bda8-4cbe-9127-b3d0c28ed6b8",
     "showTitle": false,
     "title": ""
    }
   },
   "outputs": [],
   "source": [
    "from pyspark.ml.clustering import KMeans\n",
    "km = KMeans( featuresCol='features', k=3, predictionCol='cluster', distanceMeasure='euclidean')\n",
    "km_model = km.fit(vdata)"
   ]
  },
  {
   "cell_type": "markdown",
   "metadata": {
    "application/vnd.databricks.v1+cell": {
     "cellMetadata": {},
     "inputWidgets": {},
     "nuid": "be8c271b-edac-4081-b030-dbd9693b38b8",
     "showTitle": false,
     "title": ""
    }
   },
   "source": [
    "Veamos en cuál cluster quedó cada registro"
   ]
  },
  {
   "cell_type": "code",
   "execution_count": null,
   "metadata": {
    "application/vnd.databricks.v1+cell": {
     "cellMetadata": {
      "byteLimit": 2048000,
      "rowLimit": 10000
     },
     "inputWidgets": {},
     "nuid": "1c5870ad-3aec-4981-b18e-53f734350c31",
     "showTitle": false,
     "title": ""
    }
   },
   "outputs": [],
   "source": [
    "km_model.summary.predictions.show()"
   ]
  },
  {
   "cell_type": "markdown",
   "metadata": {
    "application/vnd.databricks.v1+cell": {
     "cellMetadata": {},
     "inputWidgets": {},
     "nuid": "db1ba9fb-3ce3-4898-bfca-67d4f0fda4d8",
     "showTitle": false,
     "title": ""
    }
   },
   "source": [
    "Veamos la distribución de los clústers"
   ]
  },
  {
   "cell_type": "code",
   "execution_count": null,
   "metadata": {
    "application/vnd.databricks.v1+cell": {
     "cellMetadata": {
      "byteLimit": 2048000,
      "rowLimit": 10000
     },
     "inputWidgets": {},
     "nuid": "3d94cf68-66d1-4a51-bf99-0c53bc284fea",
     "showTitle": false,
     "title": ""
    }
   },
   "outputs": [],
   "source": [
    "print(km_model.summary.clusterSizes)"
   ]
  },
  {
   "cell_type": "markdown",
   "metadata": {
    "application/vnd.databricks.v1+cell": {
     "cellMetadata": {},
     "inputWidgets": {},
     "nuid": "412aface-2e30-44ea-a291-107e6b80c151",
     "showTitle": false,
     "title": ""
    }
   },
   "source": [
    "Revicemos los centroides"
   ]
  },
  {
   "cell_type": "code",
   "execution_count": null,
   "metadata": {
    "application/vnd.databricks.v1+cell": {
     "cellMetadata": {
      "byteLimit": 2048000,
      "rowLimit": 10000
     },
     "inputWidgets": {},
     "nuid": "77c4c972-2311-48f4-ad23-c4eed2219e5e",
     "showTitle": false,
     "title": ""
    }
   },
   "outputs": [],
   "source": [
    "km_model.clusterCenters()"
   ]
  },
  {
   "cell_type": "code",
   "execution_count": null,
   "metadata": {
    "application/vnd.databricks.v1+cell": {
     "cellMetadata": {
      "byteLimit": 2048000,
      "rowLimit": 10000
     },
     "inputWidgets": {},
     "nuid": "ac6f6a9c-b195-4f72-a834-401a93155ee0",
     "showTitle": false,
     "title": ""
    }
   },
   "outputs": [],
   "source": [
    "print(titanic.columns)"
   ]
  },
  {
   "cell_type": "markdown",
   "metadata": {
    "application/vnd.databricks.v1+cell": {
     "cellMetadata": {},
     "inputWidgets": {},
     "nuid": "c7c73fea-f853-4a92-ba7b-838e11206508",
     "showTitle": false,
     "title": ""
    }
   },
   "source": [
    "**Evaluar**"
   ]
  },
  {
   "cell_type": "code",
   "execution_count": null,
   "metadata": {
    "application/vnd.databricks.v1+cell": {
     "cellMetadata": {
      "byteLimit": 2048000,
      "rowLimit": 10000
     },
     "inputWidgets": {},
     "nuid": "a345a733-520a-4eb6-b69d-faf2a76c8e1b",
     "showTitle": false,
     "title": ""
    }
   },
   "outputs": [],
   "source": [
    "from pyspark.ml.evaluation import ClusteringEvaluator\n",
    "predictions = km_model.transform(vdata)\n",
    "evaluator = ClusteringEvaluator(predictionCol='cluster', metricName='silhouette')\n",
    "silhouette = evaluator.evaluate(predictions)\n",
    "print(\"Indice de la silueta = \" + str(silhouette))"
   ]
  },
  {
   "cell_type": "markdown",
   "metadata": {
    "application/vnd.databricks.v1+cell": {
     "cellMetadata": {},
     "inputWidgets": {},
     "nuid": "a219b3ec-6162-4603-bdb8-2330bb534be7",
     "showTitle": false,
     "title": ""
    }
   },
   "source": [
    "Aumentemos el número de clústers"
   ]
  },
  {
   "cell_type": "code",
   "execution_count": null,
   "metadata": {
    "application/vnd.databricks.v1+cell": {
     "cellMetadata": {
      "byteLimit": 2048000,
      "rowLimit": 10000
     },
     "inputWidgets": {},
     "nuid": "ca6e70c2-9f91-418b-aac5-a52acb071b20",
     "showTitle": false,
     "title": ""
    }
   },
   "outputs": [],
   "source": [
    "#modelar\n",
    "km = KMeans( featuresCol='features', k=18, predictionCol='cluster', distanceMeasure='euclidean')\n",
    "km_model = km.fit(vdata)\n",
    "\n",
    "#Asignación de clusters\n",
    "predictions = km_model.transform(vdata)\n",
    "\n",
    "#Evaluar\n",
    "evaluator = ClusteringEvaluator(predictionCol='cluster', metricName='silhouette')\n",
    "silhouette = evaluator.evaluate(predictions)\n",
    "print(\"Indice de la silueta = \" + str(silhouette))"
   ]
  }
 ],
 "metadata": {
  "application/vnd.databricks.v1+notebook": {
   "dashboards": [],
   "language": "python",
   "notebookMetadata": {
    "pythonIndentUnit": 4
   },
   "notebookName": "11 - Machine Learning",
   "widgets": {}
  },
  "colab": {
   "authorship_tag": "ABX9TyO/SgDK55BP4C68K0AynMNf",
   "collapsed_sections": [],
   "provenance": [
    {
     "file_id": "1h1v0E7Y3VPytdYINUvpoZb5fSXW1S0r2",
     "timestamp": 1601155270686
    }
   ],
   "toc_visible": true
  },
  "kernelspec": {
   "display_name": "PySpark",
   "language": "python",
   "name": "pysparkkernel"
  },
  "language_info": {
   "codemirror_mode": {
    "name": "python",
    "version": 3
   },
   "file_extension": ".py",
   "mimetype": "text/x-python",
   "name": "pyspark",
   "pygments_lexer": "python3"
  }
 },
 "nbformat": 4,
 "nbformat_minor": 1
}
