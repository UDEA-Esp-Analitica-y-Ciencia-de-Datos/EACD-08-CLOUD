{
  "nbformat": 4,
  "nbformat_minor": 0,
  "metadata": {
    "colab": {
      "provenance": [],
      "toc_visible": true
    },
    "kernelspec": {
      "name": "python3",
      "display_name": "Python 3"
    },
    "language_info": {
      "name": "python"
    }
  },
  "cells": [
    {
      "cell_type": "code",
      "source": [
        "!wget --no-cache -O init.py -q https://raw.githubusercontent.com/UDEA-Esp-Analitica-y-Ciencia-de-Datos/EACD-08-CLOUD/master/init.py\n",
        "import init; init.init(force_download=False); \n",
        "from IPython.display import Image"
      ],
      "metadata": {
        "id": "yp3y-U5TgYNe"
      },
      "execution_count": null,
      "outputs": []
    },
    {
      "cell_type": "code",
      "source": [
        "Image(\"local/imgs/udea-datascience.png\")"
      ],
      "metadata": {
        "id": "k905MnCmgc90"
      },
      "execution_count": null,
      "outputs": []
    },
    {
      "cell_type": "markdown",
      "source": [
        "#**PROCESAMIENTO DE DATOS**"
      ],
      "metadata": {
        "id": "YZTEHAzjgvYS"
      }
    },
    {
      "cell_type": "markdown",
      "source": [
        "##**SERIALIZACIÓN DE DATOS**"
      ],
      "metadata": {
        "id": "iObJ-5alOlsb"
      }
    },
    {
      "cell_type": "markdown",
      "source": [
        "- Proceso de codificación de un objeto en un flujo de bytes con el fin de almacenarlo o transmitirlo. El objeto recibido/leído, es considerado como idéntico al original\n",
        "\n",
        "- También suele ser utilizado como método de persistencia de objetos en forma de archivos, en memoria o en base de datos\n",
        "\n",
        "- Otro uso que se les da, permite detectar cambios en las variables en función del tiempo"
      ],
      "metadata": {
        "id": "ozJOa80QPK5C"
      }
    },
    {
      "cell_type": "code",
      "source": [
        "Image(\"local/imgs/serializacion.png\")"
      ],
      "metadata": {
        "id": "QUGJr_SNWB8D"
      },
      "execution_count": null,
      "outputs": []
    },
    {
      "cell_type": "markdown",
      "source": [
        "Para mostrar como funciona el proceso de serialización vamos a crear el siguiente objeto"
      ],
      "metadata": {
        "id": "npHjwohUQoqK"
      }
    },
    {
      "cell_type": "code",
      "source": [
        "class Empleado:\n",
        "  id = 0\n",
        "  nombre=''\n",
        "  edad=0\n",
        "  sexo=''\n",
        "  profesion=''\n",
        "  salario=0\n",
        "\n",
        "  def print(self):\n",
        "        print('Id: ',self.id)\n",
        "        print('Nombre: ',self.nombre)\n",
        "        print('Edad: ',self.edad)\n",
        "        print('Sexo: ',self.sexo)\n",
        "        print('Profesión: ',self.profesion)\n",
        "        print('Salario: ',self.salario)\n",
        "\n",
        "         "
      ],
      "metadata": {
        "id": "pAjOqvH0QyQc"
      },
      "execution_count": null,
      "outputs": []
    },
    {
      "cell_type": "markdown",
      "source": [
        "Ahora creemos instancias de ese objeto"
      ],
      "metadata": {
        "id": "fZYMos2kqNjk"
      }
    },
    {
      "cell_type": "code",
      "source": [
        "emp1=Empleado()\n",
        "\n",
        "emp1.id=1\n",
        "emp1.nombre='Juan'\n",
        "emp1.edad=33\n",
        "emp1.sexo='M'\n",
        "emp1.profesion='Ingeniero'\n",
        "emp1.salario=4500000\n",
        "\n",
        "emp1.print()"
      ],
      "metadata": {
        "id": "WE3b6h_sSMum"
      },
      "execution_count": null,
      "outputs": []
    },
    {
      "cell_type": "code",
      "source": [
        "emp2=Empleado()\n",
        "\n",
        "emp2.id=2\n",
        "emp2.nombre='Ana'\n",
        "emp2.edad=38\n",
        "emp2.sexo='F'\n",
        "emp2.profesion='Arquitecta'\n",
        "emp2.salario=6200000\n",
        "\n",
        "emp2.print()"
      ],
      "metadata": {
        "id": "-G3mRIvKSv_H"
      },
      "execution_count": null,
      "outputs": []
    },
    {
      "cell_type": "code",
      "source": [
        "type(emp1)"
      ],
      "metadata": {
        "id": "HfFqcof5T7xd"
      },
      "execution_count": null,
      "outputs": []
    },
    {
      "cell_type": "markdown",
      "source": [
        "Es muy común gestionar los objetos como diccionarios. Veamos como sería"
      ],
      "metadata": {
        "id": "BIlS160yqURU"
      }
    },
    {
      "cell_type": "code",
      "source": [
        "emp1_dic=emp1.__dict__\n",
        "type(emp1_dic)"
      ],
      "metadata": {
        "id": "AshUk1-eqoYu"
      },
      "execution_count": null,
      "outputs": []
    },
    {
      "cell_type": "code",
      "source": [
        "print(emp1_dic)"
      ],
      "metadata": {
        "id": "0bT7zpYmqylS"
      },
      "execution_count": null,
      "outputs": []
    },
    {
      "cell_type": "markdown",
      "source": [
        "###**Json**"
      ],
      "metadata": {
        "id": "bke-9NimPcAD"
      }
    },
    {
      "cell_type": "markdown",
      "source": [
        "JSON (JavaScript Object Notation)\n",
        "Representa datos estructurados en la sintaxis de JavaScript\n",
        "\n",
        "Permite transmitir datos en aplicaciones Web\n",
        "\n",
        "Es un archivo de texto con extensión .json\n"
      ],
      "metadata": {
        "id": "8fDfA8mzPmiK"
      }
    },
    {
      "cell_type": "code",
      "source": [
        "import json"
      ],
      "metadata": {
        "id": "27p9GOlDOw3Y"
      },
      "execution_count": null,
      "outputs": []
    },
    {
      "cell_type": "markdown",
      "source": [
        "Vamos a convertir el diccionario emp1_dic en un string listo para ser almacenado en memoria o BD o para ser transmitido a otra aplicación, con la ayuda del método **dumps**"
      ],
      "metadata": {
        "id": "oo3OvdwBq6Ee"
      }
    },
    {
      "cell_type": "code",
      "source": [
        "emp1_str=json.dumps(emp1_dic)"
      ],
      "metadata": {
        "id": "d7D80j_DXBXj"
      },
      "execution_count": null,
      "outputs": []
    },
    {
      "cell_type": "code",
      "source": [
        "type(emp1_str)"
      ],
      "metadata": {
        "id": "seaCE_ECpLka"
      },
      "execution_count": null,
      "outputs": []
    },
    {
      "cell_type": "code",
      "source": [
        "print(emp1_str)"
      ],
      "metadata": {
        "id": "kYeW8FdEpOiH"
      },
      "execution_count": null,
      "outputs": []
    },
    {
      "cell_type": "markdown",
      "source": [
        "Almacenemos en memoria el string conseguido"
      ],
      "metadata": {
        "id": "zrODsJyZrM0k"
      }
    },
    {
      "cell_type": "code",
      "source": [
        "jsonfile = open(\"local/data/emp1.json\", \"w\")\n",
        "jsonfile.write(emp1_str)\n",
        "jsonfile.close()"
      ],
      "metadata": {
        "id": "0ZQce0dArUWq"
      },
      "execution_count": null,
      "outputs": []
    },
    {
      "cell_type": "markdown",
      "source": [
        "Vamos a leer el archivo **emp1.json** como un string"
      ],
      "metadata": {
        "id": "jki75yzEPmO0"
      }
    },
    {
      "cell_type": "code",
      "source": [
        "json_copia=open(\"local/data/emp1.json\", \"r\")\n",
        "emp1_copia_str=json_copia.read()\n",
        "json_copia.close()\n",
        "type(emp1_copia_str)"
      ],
      "metadata": {
        "id": "kK8dGveCELkt"
      },
      "execution_count": null,
      "outputs": []
    },
    {
      "cell_type": "code",
      "source": [
        "print(emp1_copia_str)"
      ],
      "metadata": {
        "id": "53n5UXA9Fc2O"
      },
      "execution_count": null,
      "outputs": []
    },
    {
      "cell_type": "markdown",
      "source": [
        "Ahora vamos a convertir el string de nuevo a un diccionario, con la ayuda del método **loads**"
      ],
      "metadata": {
        "id": "oiurSgvWrWWe"
      }
    },
    {
      "cell_type": "code",
      "source": [
        "emp1_copia=json.loads(emp1_copia_str)"
      ],
      "metadata": {
        "id": "SajJW2NmOQg-"
      },
      "execution_count": null,
      "outputs": []
    },
    {
      "cell_type": "code",
      "source": [
        "type(emp1_copia)"
      ],
      "metadata": {
        "id": "ghHMdqAaOTTK"
      },
      "execution_count": null,
      "outputs": []
    },
    {
      "cell_type": "code",
      "source": [
        "print(emp1_copia)"
      ],
      "metadata": {
        "id": "KxGXsofwsSmF"
      },
      "execution_count": null,
      "outputs": []
    },
    {
      "cell_type": "markdown",
      "source": [
        "Verifiquemos si el diccionario original y su copia son iguales"
      ],
      "metadata": {
        "id": "Ui317BB8rs6B"
      }
    },
    {
      "cell_type": "code",
      "source": [
        "emp1_copia == emp1_dic"
      ],
      "metadata": {
        "id": "YtQsxo11p-9W"
      },
      "execution_count": null,
      "outputs": []
    },
    {
      "cell_type": "markdown",
      "source": [
        "###**Xml**"
      ],
      "metadata": {
        "id": "uHmYQM6eQDWY"
      }
    },
    {
      "cell_type": "markdown",
      "source": [
        "XML (Lenguaje extensible de marcas)\n",
        "\n",
        "Define etiquetas personalizadas para describir y organizar datos\n",
        "\n",
        "Se utiliza para transferir información de productos, transacciones, inventario, etc"
      ],
      "metadata": {
        "id": "f9wfz6bRQGyk"
      }
    },
    {
      "cell_type": "code",
      "source": [
        "!pip install dicttoxml \n",
        "!pip install xmltodict"
      ],
      "metadata": {
        "id": "xV2ttKxyVpVy"
      },
      "execution_count": null,
      "outputs": []
    },
    {
      "cell_type": "code",
      "source": [
        "from dicttoxml import dicttoxml\n",
        "import xmltodict"
      ],
      "metadata": {
        "id": "Nwxr4vPpVpyT"
      },
      "execution_count": null,
      "outputs": []
    },
    {
      "cell_type": "code",
      "source": [
        "#import dicttoxml\n"
      ],
      "metadata": {
        "id": "Ow30WKS4brpM"
      },
      "execution_count": null,
      "outputs": []
    },
    {
      "cell_type": "markdown",
      "source": [
        "Retomemos el diccionario que creamos previamente"
      ],
      "metadata": {
        "id": "CE92PZF1UBkI"
      }
    },
    {
      "cell_type": "code",
      "source": [
        "print(emp1_dic)"
      ],
      "metadata": {
        "id": "XbUgmf2zXz8g"
      },
      "execution_count": null,
      "outputs": []
    },
    {
      "cell_type": "markdown",
      "source": [
        "Vamos a convertir un diccionario en bytes en formato **xml** con el método **dicttoxml**"
      ],
      "metadata": {
        "id": "977eW_dCQKn4"
      }
    },
    {
      "cell_type": "code",
      "source": [
        "emp1_xml_bytes = dicttoxml(emp1_dic)"
      ],
      "metadata": {
        "id": "U3RahLdLVxwX"
      },
      "execution_count": null,
      "outputs": []
    },
    {
      "cell_type": "code",
      "source": [
        "print(emp1_xml_bytes)"
      ],
      "metadata": {
        "id": "2pzUYasHVzR9"
      },
      "execution_count": null,
      "outputs": []
    },
    {
      "cell_type": "code",
      "source": [
        "type(emp1_xml_bytes)"
      ],
      "metadata": {
        "id": "0ty0m5ZoX_ja"
      },
      "execution_count": null,
      "outputs": []
    },
    {
      "cell_type": "markdown",
      "source": [
        "Lo podemos imprimir de una forma mas legible usando **toprettyxml**"
      ],
      "metadata": {
        "id": "mxiFcsxTQ0FV"
      }
    },
    {
      "cell_type": "code",
      "source": [
        "from xml.dom.minidom import parseString\n",
        "dom = parseString(emp1_xml_bytes)\n",
        " \n",
        "print(dom.toprettyxml())"
      ],
      "metadata": {
        "id": "2o7Vy3MrYAd5"
      },
      "execution_count": null,
      "outputs": []
    },
    {
      "cell_type": "markdown",
      "source": [
        "Podemos omitir la información relacionada con los tipos de datos"
      ],
      "metadata": {
        "id": "RQ6p9pEuRCLZ"
      }
    },
    {
      "cell_type": "code",
      "source": [
        "emp1_xml_bytes = dicttoxml(emp1_dic, attr_type = False)\n",
        " \n",
        "print(parseString(emp1_xml_bytes).toprettyxml())"
      ],
      "metadata": {
        "id": "oq_0sIVCYN9g"
      },
      "execution_count": null,
      "outputs": []
    },
    {
      "cell_type": "markdown",
      "source": [
        "Almacenemos en memoria el resultado obtenido. Para eso, debemos primero convertirlo a formato string"
      ],
      "metadata": {
        "id": "hldlPfVsRQ2h"
      }
    },
    {
      "cell_type": "code",
      "source": [
        "emp1_xml_str=emp1_xml_bytes.decode(\"utf-8\")\n",
        "type(emp1_xml_str)"
      ],
      "metadata": {
        "id": "OkMUfpoeYtCU"
      },
      "execution_count": null,
      "outputs": []
    },
    {
      "cell_type": "code",
      "source": [
        "print(emp1_xml_str)"
      ],
      "metadata": {
        "id": "jc_4B_6JZIYX"
      },
      "execution_count": null,
      "outputs": []
    },
    {
      "cell_type": "code",
      "source": [
        "jsonfile = open(\"local/data/emp1.xml\", \"w\")\n",
        "jsonfile.write(emp1_xml_str)\n",
        "jsonfile.close()"
      ],
      "metadata": {
        "id": "JdZYzH-9RXdT"
      },
      "execution_count": null,
      "outputs": []
    },
    {
      "cell_type": "markdown",
      "source": [
        "Vamos a leer el archivo emp1.xml como un string"
      ],
      "metadata": {
        "id": "c4KwgH_8Re8T"
      }
    },
    {
      "cell_type": "code",
      "source": [
        "xml_copia=open(\"local/data/emp1.xml\", \"r\")\n",
        "emp1_copia_str=xml_copia.read()\n",
        "xml_copia.close()\n",
        "type(emp1_copia_str)"
      ],
      "metadata": {
        "id": "TOiRaLxCRkfl"
      },
      "execution_count": null,
      "outputs": []
    },
    {
      "cell_type": "code",
      "source": [
        "print(emp1_copia_str)"
      ],
      "metadata": {
        "id": "x9hBmXNjZot7"
      },
      "execution_count": null,
      "outputs": []
    },
    {
      "cell_type": "markdown",
      "source": [
        "Ahora vamos a convertir el string de nuevo a un diccionario, con la ayuda del método **xmltodict**"
      ],
      "metadata": {
        "id": "IQPjv-qZRqr8"
      }
    },
    {
      "cell_type": "code",
      "source": [
        "xml_copia = xmltodict.parse(emp1_copia_str)"
      ],
      "metadata": {
        "id": "df_zSvjZXI-u"
      },
      "execution_count": null,
      "outputs": []
    },
    {
      "cell_type": "code",
      "source": [
        "type(xml_copia)"
      ],
      "metadata": {
        "id": "51IvryDJXRzI"
      },
      "execution_count": null,
      "outputs": []
    },
    {
      "cell_type": "markdown",
      "source": [
        "Verifiquemos si el diccionario original y su copia son iguales"
      ],
      "metadata": {
        "id": "CVyPTy1JT_Ay"
      }
    },
    {
      "cell_type": "code",
      "source": [
        "print(emp1_dic)"
      ],
      "metadata": {
        "id": "yd7xl9A3cHfE"
      },
      "execution_count": null,
      "outputs": []
    },
    {
      "cell_type": "code",
      "source": [
        "print(xml_copia)"
      ],
      "metadata": {
        "id": "mi3wCLeRYaFS"
      },
      "execution_count": null,
      "outputs": []
    },
    {
      "cell_type": "markdown",
      "source": [
        "###**Yaml**"
      ],
      "metadata": {
        "id": "DgAegRMNQN1A"
      }
    },
    {
      "cell_type": "markdown",
      "source": [
        "YAML (YAML Ain't Markup Language)\n",
        "Lenguaje de serialización de datos utilizado frecuentemente en el diseño de archivos de configuración.\n",
        "\n",
        "Fue diseñado para ser útil y amigable para las personas que trabajan con datos\n",
        "\n",
        "La sangría se usa para la estructura, los dos puntos separan los pares clave valor y los guiones crean listas con viñetas\n",
        "\n"
      ],
      "metadata": {
        "id": "HqjLODtQQT5v"
      }
    },
    {
      "cell_type": "code",
      "source": [
        "!pip install pyyaml"
      ],
      "metadata": {
        "id": "dRe3SFe1asGO"
      },
      "execution_count": null,
      "outputs": []
    },
    {
      "cell_type": "code",
      "source": [
        "import yaml"
      ],
      "metadata": {
        "id": "7g1fDLNOa6g9"
      },
      "execution_count": null,
      "outputs": []
    },
    {
      "cell_type": "code",
      "source": [
        "print(emp1_dic)"
      ],
      "metadata": {
        "id": "D9ZjA6GRSvoV"
      },
      "execution_count": null,
      "outputs": []
    },
    {
      "cell_type": "markdown",
      "source": [
        "Vamos a convertir un diccionario en un string en formato yaml con el método **dump**"
      ],
      "metadata": {
        "id": "DIE8ugALS0jS"
      }
    },
    {
      "cell_type": "code",
      "source": [
        "emp1_yaml_str=yaml.dump(emp1_dic)"
      ],
      "metadata": {
        "id": "jN39q50kdGpt"
      },
      "execution_count": null,
      "outputs": []
    },
    {
      "cell_type": "code",
      "source": [
        "type(emp1_yaml_str)"
      ],
      "metadata": {
        "id": "9Qf6vPZ_dQUu"
      },
      "execution_count": null,
      "outputs": []
    },
    {
      "cell_type": "code",
      "source": [
        "print(emp1_yaml_str)"
      ],
      "metadata": {
        "id": "mSSePq00dS1H"
      },
      "execution_count": null,
      "outputs": []
    },
    {
      "cell_type": "markdown",
      "source": [
        "Almacenemos en memoria el resultado obtenido"
      ],
      "metadata": {
        "id": "VXwCNY5PTENT"
      }
    },
    {
      "cell_type": "code",
      "source": [
        "yamlfile = open(\"local/data/emp1.yaml\", \"w\")\n",
        "yamlfile.write(emp1_yaml_str)\n",
        "yamlfile.close()"
      ],
      "metadata": {
        "id": "XUVkDtN0TGtO"
      },
      "execution_count": null,
      "outputs": []
    },
    {
      "cell_type": "markdown",
      "source": [
        "Vamos a leer el archivo emp1.yaml como string"
      ],
      "metadata": {
        "id": "U4Jj_JqkTTFo"
      }
    },
    {
      "cell_type": "code",
      "source": [
        "yaml_copia=open(\"local/data/emp1.yaml\", \"r\")\n",
        "emp1_copia_str=yaml_copia.read()\n",
        "yaml_copia.close()\n",
        "type(emp1_copia_str)"
      ],
      "metadata": {
        "id": "NGz6NGXQTW8m"
      },
      "execution_count": null,
      "outputs": []
    },
    {
      "cell_type": "markdown",
      "source": [
        "Ahora vamos a convertir el string de nuevo a un diccionario, con la ayuda del método **load**"
      ],
      "metadata": {
        "id": "j09b2he_TmZE"
      }
    },
    {
      "cell_type": "code",
      "source": [
        "yaml_copia = yaml.load(emp1_copia_str, Loader=yaml.Loader)"
      ],
      "metadata": {
        "id": "uwevyZckdl5R"
      },
      "execution_count": null,
      "outputs": []
    },
    {
      "cell_type": "code",
      "source": [
        "type(yaml_copia)"
      ],
      "metadata": {
        "id": "ycr3aaoVfARZ"
      },
      "execution_count": null,
      "outputs": []
    },
    {
      "cell_type": "code",
      "source": [
        "print(yaml_copia)"
      ],
      "metadata": {
        "id": "dSkdD_kLfCHq"
      },
      "execution_count": null,
      "outputs": []
    },
    {
      "cell_type": "markdown",
      "source": [
        "Verifiquemos si el diccionario original y su copia son iguales"
      ],
      "metadata": {
        "id": "AkZFnoeeT3oo"
      }
    },
    {
      "cell_type": "code",
      "source": [
        "emp1_dic==yaml_copia"
      ],
      "metadata": {
        "id": "qNhz0wRlT4zF"
      },
      "execution_count": null,
      "outputs": []
    },
    {
      "cell_type": "markdown",
      "source": [
        "###**Ejercicio**"
      ],
      "metadata": {
        "id": "BY4strgIraG_"
      }
    },
    {
      "cell_type": "markdown",
      "source": [
        "1. Cree un diccionario con la información relacionada on la ciudades que ha visitado (país, departamento, fecha de visita, duración, motivo, etc)\n",
        "\n",
        "2. Convierta el diccionario en formato json\n",
        "\n",
        "3. Convierta el diccionario en formato xml\n",
        "\n",
        "4. Convierta el diccionario en formato yaml"
      ],
      "metadata": {
        "id": "IQDyTrVprdUj"
      }
    },
    {
      "cell_type": "markdown",
      "source": [
        "##**PROTOCOL BUFFERS**"
      ],
      "metadata": {
        "id": "ayhqj56a2xZA"
      }
    },
    {
      "cell_type": "markdown",
      "source": [
        "Formato de serialización de datos que facilita el intercambio de datos  entre aplicaciones, aún si están desarrolladas en distintos lenguajes.\n",
        "\n",
        "Desarrollado por Google y liberado en 2008 como proyecto de código abierto. Pensado par reemplazar el formato xml con el objetivo de ser mas simple y rápido\n",
        "\n",
        "La comunicación se realiza en formato cliente – servidor de forma local o remota, utilizando\n",
        "\n",
        "Asigna etiquetas a los datos para utilizar un formato binario"
      ],
      "metadata": {
        "id": "sIVmQFh787FS"
      }
    },
    {
      "cell_type": "code",
      "source": [
        "Image(\"local/imgs/protobuf.png\")"
      ],
      "metadata": {
        "id": "52r73PxV9Dsd"
      },
      "execution_count": null,
      "outputs": []
    },
    {
      "cell_type": "markdown",
      "source": [
        "Empecemos instalando Protocol Buffer"
      ],
      "metadata": {
        "id": "jhLZZ8TE-LHC"
      }
    },
    {
      "cell_type": "code",
      "source": [
        "!pip install protobuf"
      ],
      "metadata": {
        "id": "xjtkiFEO24RT"
      },
      "execution_count": null,
      "outputs": []
    },
    {
      "cell_type": "markdown",
      "source": [
        "Se debe crear y compilar un archivo que defina la estructura de los datos que se van a serializar mediante protocol buffers.\n",
        "\n",
        "Como ejemplo usemos la clase empleado con la que hemos trabajado hasta ahora"
      ],
      "metadata": {
        "id": "9KJ9QjXd-ZfK"
      }
    },
    {
      "cell_type": "markdown",
      "source": [
        "**empleado.proto**\n",
        "\n",
        "syntax = \"proto3\";\n",
        "   \n",
        "message Empleado {\n",
        "\n",
        "  int32 id          = 1;\n",
        "  \n",
        "  string nombre     = 2;\n",
        "  \n",
        "  int32 edad        = 3;\n",
        "  \n",
        "  string sexo       = 4;\n",
        "  \n",
        "  string profesion  = 5;\n",
        "  \n",
        "  int32 salario     = 6;\n",
        "\n",
        "}"
      ],
      "metadata": {
        "id": "8azCyFcr50bx"
      }
    },
    {
      "cell_type": "markdown",
      "source": [
        "Se debe compilar el archivo creado (**empleado.proto**)"
      ],
      "metadata": {
        "id": "F4cwmyFx6F2Q"
      }
    },
    {
      "cell_type": "code",
      "source": [
        "!protoc --python_out=. 'local/data/empleado.proto'"
      ],
      "metadata": {
        "id": "ze9kAZh28pJR"
      },
      "execution_count": null,
      "outputs": []
    },
    {
      "cell_type": "markdown",
      "source": [
        "Al compilar, se genera el archivo **empleado_pb2.py**. Debemos importarlo para poder trabajar con la clase empleado\n",
        "\n",
        "*Qué será lo que contiene ese archivo?*"
      ],
      "metadata": {
        "id": "l_qRvMFB6QWS"
      }
    },
    {
      "cell_type": "code",
      "source": [
        "from local.data import empleado_pb2"
      ],
      "metadata": {
        "id": "wmcGET07md-T"
      },
      "execution_count": null,
      "outputs": []
    },
    {
      "cell_type": "markdown",
      "source": [
        "Vamos a crear una instancia de la clase empleado"
      ],
      "metadata": {
        "id": "V9gzu-5i6fTW"
      }
    },
    {
      "cell_type": "code",
      "source": [
        "emp1 = empleado_pb2.Empleado()"
      ],
      "metadata": {
        "id": "7WEhi-sFmlEr"
      },
      "execution_count": null,
      "outputs": []
    },
    {
      "cell_type": "markdown",
      "source": [
        "Asignemos cada uno de los campos del empleado"
      ],
      "metadata": {
        "id": "3xslpf-Y6kS8"
      }
    },
    {
      "cell_type": "code",
      "source": [
        "emp1.id = 1\n",
        "emp1.nombre = 'Juan'\n",
        "emp1.edad = 33\n",
        "emp1.sexo = 'M'\n",
        "emp1.profesion = 'Ingeniero'\n",
        "emp1.salario = 4500000"
      ],
      "metadata": {
        "id": "5xD7q1jdmqup"
      },
      "execution_count": null,
      "outputs": []
    },
    {
      "cell_type": "markdown",
      "source": [
        "Par trtansferir o almacenar la información se utiliza el método **SerializetoString** que crea un array de bytes con la información del empleado"
      ],
      "metadata": {
        "id": "fgXrX6ah6qYw"
      }
    },
    {
      "cell_type": "code",
      "source": [
        "emp1_serializado = emp1.SerializeToString()\n",
        "type(emp1_serializado)"
      ],
      "metadata": {
        "id": "LlDbu5RWmzB_"
      },
      "execution_count": null,
      "outputs": []
    },
    {
      "cell_type": "markdown",
      "source": [
        "Veamos el contenido del empleado serializado"
      ],
      "metadata": {
        "id": "2zyp2MFn7DFK"
      }
    },
    {
      "cell_type": "code",
      "source": [
        "print(\"Empleado Serialiado: \", emp1_serializado)"
      ],
      "metadata": {
        "id": "Ysq2iLRem2aW"
      },
      "execution_count": null,
      "outputs": []
    },
    {
      "cell_type": "markdown",
      "source": [
        "Ahora vamos a deserializar estos datos para construir de nuevo la instancia del empleado. Para esto creamos una instancia de la clase empleado y usamos el método **ParseFromString**"
      ],
      "metadata": {
        "id": "A_P6psT-7Jmi"
      }
    },
    {
      "cell_type": "code",
      "source": [
        "emp1_copia = empleado_pb2.Empleado()\n",
        "emp1_copia.ParseFromString(emp1_serializado)"
      ],
      "metadata": {
        "id": "SfLUVjZbp6uv"
      },
      "execution_count": null,
      "outputs": []
    },
    {
      "cell_type": "markdown",
      "source": [
        "Vamos a imprimir la copia del empleado"
      ],
      "metadata": {
        "id": "XBNpo7Sm7hhc"
      }
    },
    {
      "cell_type": "code",
      "source": [
        "\n",
        "print(\"Empleado Copia: \", emp1_copia)"
      ],
      "metadata": {
        "id": "XJhaxK6ZpwHZ"
      },
      "execution_count": null,
      "outputs": []
    },
    {
      "cell_type": "markdown",
      "source": [
        "Al ser una clase, podemos acceder directamente a cada uno de los campos"
      ],
      "metadata": {
        "id": "NHWBKAud7lAw"
      }
    },
    {
      "cell_type": "code",
      "source": [
        "print(\"Id: \", emp1_copia.id)\n",
        "print(\"Nombre: \", emp1_copia.nombre)\n",
        "print(\"Edad: \", emp1_copia.edad)\n",
        "print(\"Sexo: \", emp1_copia.sexo)\n",
        "print(\"Profesion: \", emp1_copia.profesion)\n",
        "print(\"Salario: \", emp1_copia.salario)"
      ],
      "metadata": {
        "id": "hsEyOAAOqMtU"
      },
      "execution_count": null,
      "outputs": []
    },
    {
      "cell_type": "markdown",
      "source": [
        "Confirmemos si el empleado inicial y su copia son iguales"
      ],
      "metadata": {
        "id": "0wbvD_Rx7pnA"
      }
    },
    {
      "cell_type": "code",
      "source": [
        "emp1_copia == emp1"
      ],
      "metadata": {
        "id": "Ww0VdI_jytA8"
      },
      "execution_count": null,
      "outputs": []
    },
    {
      "cell_type": "markdown",
      "source": [
        "Consulte la guía de Protocol Buffers para python para mas información\n",
        "\n",
        "https://protobuf.dev/getting-started/pythontutorial/\n"
      ],
      "metadata": {
        "id": "AcDyEWKpDI65"
      }
    },
    {
      "cell_type": "code",
      "source": [
        "Image(\"local/imgs/protobuf_python.png\")"
      ],
      "metadata": {
        "id": "6W5r3gY9Dd_j"
      },
      "execution_count": null,
      "outputs": []
    },
    {
      "cell_type": "markdown",
      "source": [
        "##**APACHE THRIFT**"
      ],
      "metadata": {
        "id": "3EyRMNOWBYal"
      }
    },
    {
      "cell_type": "markdown",
      "source": [
        "Protocolo para la gestión de los macrodatos, que a demás de permitir serialización de objetos en formato binario, incluye el desarrollo de interfaces de servicios utilizando archivos de extensión .thrift\n",
        "\n",
        "Se enfoca principalmente en la capa de comunicación entre el cliente y el servidor RPC (Llamado a procedimientos remotos)\n",
        "\n",
        "Fue desarrollado por Facebook y posteriormente liberado, es de código abierto y se utiliza generalmente en C++ pero se puede adaptar a otros lenguajes\n",
        "\n",
        "Utiliza un lenguaje de descripción de interfaz (IDL) para definir la estructura de los datos y las interfaces de los servicios"
      ],
      "metadata": {
        "id": "-yl_SJAz9nc7"
      }
    },
    {
      "cell_type": "code",
      "source": [
        "Image(\"local/imgs/thrift.png\")"
      ],
      "metadata": {
        "id": "n8A_zmK6-ADz"
      },
      "execution_count": null,
      "outputs": []
    },
    {
      "cell_type": "markdown",
      "source": [
        "###**Instalación**"
      ],
      "metadata": {
        "id": "wcagYO_yDabB"
      }
    },
    {
      "cell_type": "markdown",
      "source": [
        "Se debe descargar apache thrift, descomprimirlo y preparar el entorno de ejecución"
      ],
      "metadata": {
        "id": "gcTfQ4E18Pr1"
      }
    },
    {
      "cell_type": "code",
      "source": [
        "!wget https://dlcdn.apache.org/thrift/0.18.1/thrift-0.18.1.tar.gz\n",
        "!tar -xf thrift-0.18.1.tar.gz\n",
        "!cd thrift-0.18.1 && ./bootstrap.sh\n",
        "!cd thrift-0.18.1 && ./configure --without-kotlin --without-python\n",
        "!cd thrift-0.18.1 && make\n",
        "!cd thrift-0.18.1 && make install\n",
        "!pip install thrift\n",
        "import thrift"
      ],
      "metadata": {
        "id": "cjh2La69pYJr"
      },
      "execution_count": null,
      "outputs": []
    },
    {
      "cell_type": "markdown",
      "source": [
        "###**Crear archivo .thrift**"
      ],
      "metadata": {
        "id": "mNgs7hSpDhDp"
      }
    },
    {
      "cell_type": "markdown",
      "source": [
        "Ahora se debe crear un archivo con extensión .thrift que contiene los datos y servicios que se desean utilizar.\n",
        "\n",
        "Para este caso utilicemos el archivo **empleado.thrift** y con el método **gen** creamos los archivos compilados para operar en python"
      ],
      "metadata": {
        "id": "bg9zUVH08zrR"
      }
    },
    {
      "cell_type": "code",
      "source": [
        "!thrift -r --gen py local/data/empleado.thrift"
      ],
      "metadata": {
        "id": "5xH_le4p3Hm0"
      },
      "execution_count": null,
      "outputs": []
    },
    {
      "cell_type": "markdown",
      "source": [
        "###**Cliente**"
      ],
      "metadata": {
        "id": "dFxZXf77D4Da"
      }
    },
    {
      "cell_type": "markdown",
      "source": [
        "Agregamos la ruta del resultado de la compilación al path"
      ],
      "metadata": {
        "id": "OF6u8NQyclaJ"
      }
    },
    {
      "cell_type": "code",
      "source": [
        "import sys\n",
        "sys.path.append(\"gen-py\")"
      ],
      "metadata": {
        "id": "IAU4w5xLBdW5"
      },
      "execution_count": null,
      "outputs": []
    },
    {
      "cell_type": "markdown",
      "source": [
        "Importamos el servicio compilado y las clases para creación del socket, la capa de transporte y el protocolo de serialización"
      ],
      "metadata": {
        "id": "iwRdw8pkcrKe"
      }
    },
    {
      "cell_type": "code",
      "source": [
        "from Empleado import EmpleadoServicio\n",
        "from Empleado.ttypes import *\n",
        "from thrift.transport import TSocket\n",
        "from thrift.transport import TTransport\n",
        "from thrift.protocol import TBinaryProtocol"
      ],
      "metadata": {
        "id": "t6Fz0oouBsR7"
      },
      "execution_count": null,
      "outputs": []
    },
    {
      "cell_type": "markdown",
      "source": [
        "Creamos el socket indicando la ruta del servidor"
      ],
      "metadata": {
        "id": "wB48sPsSc6F3"
      }
    },
    {
      "cell_type": "code",
      "source": [
        "transporte = TSocket.TSocket(\"localhost\", 9090)\n",
        "transporte = TTransport.TBufferedTransport(transporte)"
      ],
      "metadata": {
        "id": "cMKl18y-CNSS"
      },
      "execution_count": null,
      "outputs": []
    },
    {
      "cell_type": "markdown",
      "source": [
        "Asignamos el protocolo de serialización"
      ],
      "metadata": {
        "id": "1AzyB1r0dExL"
      }
    },
    {
      "cell_type": "code",
      "source": [
        "protocolo = TBinaryProtocol.TBinaryProtocol(transporte)"
      ],
      "metadata": {
        "id": "xAGZ9t-DCS-C"
      },
      "execution_count": null,
      "outputs": []
    },
    {
      "cell_type": "markdown",
      "source": [
        "Creamos el cliente que va a consumir el servicio"
      ],
      "metadata": {
        "id": "0qRak8W5dLWr"
      }
    },
    {
      "cell_type": "code",
      "source": [
        "cliente = EmpleadoServicio.Client(protocolo)"
      ],
      "metadata": {
        "id": "vw1FU7hXCU4Q"
      },
      "execution_count": null,
      "outputs": []
    },
    {
      "cell_type": "markdown",
      "source": [
        "Creemos una instancia de la clase Empleado"
      ],
      "metadata": {
        "id": "rxGNW7tA2pZO"
      }
    },
    {
      "cell_type": "code",
      "source": [
        "emp1= Empleado()\n",
        "\n",
        "emp1.id=1\n",
        "emp1.nombre='Juan'\n",
        "emp1.edad=33\n",
        "emp1.sexo='M'\n",
        "emp1.profesion='Ingeniero'\n",
        "emp1.salario=4500000"
      ],
      "metadata": {
        "id": "xfotRPNF2omQ"
      },
      "execution_count": null,
      "outputs": []
    },
    {
      "cell_type": "markdown",
      "source": [
        "Nos conectamos con el servidor"
      ],
      "metadata": {
        "id": "GY1Fl32gdSmV"
      }
    },
    {
      "cell_type": "code",
      "source": [
        "transporte.open()"
      ],
      "metadata": {
        "id": "KABIQKF4CXk0"
      },
      "execution_count": null,
      "outputs": []
    },
    {
      "cell_type": "markdown",
      "source": [
        "Consumimos el servicio y recibimos la respuesta"
      ],
      "metadata": {
        "id": "oMcO7FdUdZms"
      }
    },
    {
      "cell_type": "code",
      "source": [
        "mensaje = cliente.msg()\n",
        "print(\"Mensaje recibido del server:  %s\" % mensaje)"
      ],
      "metadata": {
        "id": "AJrl_TmT2wzo"
      },
      "execution_count": null,
      "outputs": []
    },
    {
      "cell_type": "code",
      "source": [
        "cliente.send_Emp(emp1)"
      ],
      "metadata": {
        "id": "IuON9gbFCbXN"
      },
      "execution_count": null,
      "outputs": []
    },
    {
      "cell_type": "code",
      "source": [
        "mayor= cliente.mayor40(emp1)"
      ],
      "metadata": {
        "id": "llZnKcRO21E_"
      },
      "execution_count": null,
      "outputs": []
    },
    {
      "cell_type": "markdown",
      "source": [
        "Cerramos la conexión"
      ],
      "metadata": {
        "id": "-UmDrXTSdpEv"
      }
    },
    {
      "cell_type": "code",
      "source": [
        "transporte.close()"
      ],
      "metadata": {
        "id": "m0KPyuvsCiMp"
      },
      "execution_count": null,
      "outputs": []
    },
    {
      "cell_type": "markdown",
      "source": [
        "Ahora veamos como es el proceso de serializacion"
      ],
      "metadata": {
        "id": "RMotn0Ns__6N"
      }
    },
    {
      "cell_type": "code",
      "source": [
        "trans = TTransport.TMemoryBuffer()\n",
        "proto = TBinaryProtocol.TBinaryProtocol(trans)"
      ],
      "metadata": {
        "id": "qoM9mjxz85bF"
      },
      "execution_count": null,
      "outputs": []
    },
    {
      "cell_type": "code",
      "source": [
        "proto.writeString(\"Hola Mundo\")\n",
        "print (\"Se geneararon %d bytes del mensaje serializado\" % (trans.cstringio_buf.tell()))"
      ],
      "metadata": {
        "id": "gjJtdHVP-gpG"
      },
      "execution_count": null,
      "outputs": []
    },
    {
      "cell_type": "code",
      "source": [
        "trans.cstringio_buf.getvalue()"
      ],
      "metadata": {
        "id": "TcjMmz8NErjW"
      },
      "execution_count": null,
      "outputs": []
    },
    {
      "cell_type": "code",
      "source": [
        "trans.cstringio_buf.seek(0)\n",
        "msg = proto.readString()\n",
        "print(\"El mensaje serializado es: %s\" % (msg))"
      ],
      "metadata": {
        "id": "4giBB_Zu-nMV"
      },
      "execution_count": null,
      "outputs": []
    },
    {
      "cell_type": "markdown",
      "source": [
        "Ahora veamos que pasa si serializamos una estructura"
      ],
      "metadata": {
        "id": "ZoHcHJWhyUrk"
      }
    },
    {
      "cell_type": "code",
      "source": [
        "trans = TTransport.TMemoryBuffer()\n",
        "proto = TBinaryProtocol.TBinaryProtocol(trans)"
      ],
      "metadata": {
        "id": "QOw7fGqZGHye"
      },
      "execution_count": null,
      "outputs": []
    },
    {
      "cell_type": "code",
      "source": [
        "proto.writeStruct(emp1, emp1.thrift_spec)"
      ],
      "metadata": {
        "id": "oDFFXKg4BFvl"
      },
      "execution_count": null,
      "outputs": []
    },
    {
      "cell_type": "code",
      "source": [
        "print (\"Se geneararon %d bytes del mensaje serializado\" % (trans.cstringio_buf.tell()))"
      ],
      "metadata": {
        "id": "VBfVeIjaBZxH"
      },
      "execution_count": null,
      "outputs": []
    },
    {
      "cell_type": "code",
      "source": [
        "trans.cstringio_buf.getvalue()"
      ],
      "metadata": {
        "id": "PKS1i9j-Fn5W"
      },
      "execution_count": null,
      "outputs": []
    },
    {
      "cell_type": "code",
      "source": [
        "trans.cstringio_buf.seek(0)\n",
        "emp_copia= Empleado()\n",
        "proto.readStruct(emp_copia,emp_copia.thrift_spec)"
      ],
      "metadata": {
        "id": "L7lrM8CVDBu1"
      },
      "execution_count": null,
      "outputs": []
    },
    {
      "cell_type": "code",
      "source": [
        "emp_copia"
      ],
      "metadata": {
        "id": "t5yIxPVwD9IC"
      },
      "execution_count": null,
      "outputs": []
    },
    {
      "cell_type": "markdown",
      "source": [
        "Verifiquemos si el empleado original es igual al deserializado"
      ],
      "metadata": {
        "id": "mLWc76Qxzb0d"
      }
    },
    {
      "cell_type": "code",
      "source": [
        "emp1==emp_copia"
      ],
      "metadata": {
        "id": "H8yGX4GwEDeh"
      },
      "execution_count": null,
      "outputs": []
    },
    {
      "cell_type": "markdown",
      "source": [
        "###**Servidor**"
      ],
      "metadata": {
        "id": "fCUpYo6CD-ak"
      }
    },
    {
      "cell_type": "code",
      "source": [
        "import sys\n",
        "sys.path.append(\"gen-py\")"
      ],
      "metadata": {
        "id": "rRi3w-_OEV_e"
      },
      "execution_count": null,
      "outputs": []
    },
    {
      "cell_type": "code",
      "source": [
        "from Empleado import EmpleadoServicio\n",
        "from Empleado.ttypes import *\n",
        "from thrift.transport import TSocket\n",
        "from thrift.transport import TTransport\n",
        "from thrift.protocol import TBinaryProtocol\n",
        "from thrift.server import TServer"
      ],
      "metadata": {
        "id": "zx2RB01SEZY7"
      },
      "execution_count": null,
      "outputs": []
    },
    {
      "cell_type": "markdown",
      "source": [
        "Definimos los servicios que se van a exponer"
      ],
      "metadata": {
        "id": "Z1TsKrxfdu58"
      }
    },
    {
      "cell_type": "code",
      "source": [
        "class EmpleadoHandler:\n",
        "  def msg(self):\n",
        "    print(\"Solicitud del cliente recibida\")\n",
        "    return \"Mensaje de bienvenida desde el servidor python\"\n",
        "\n",
        "  def send_Emp(self, new_emp):\n",
        "    print(\"Solicitud del cliente recibida\")\n",
        "    print(new_emp.nombre)\n",
        "    return \"Empleado recibido\"\n",
        "\n",
        "  def mayor40(self, emp):\n",
        "    print(\"Solicitud del cliente recibida\")\n",
        "    if emp.edad>40:\n",
        "      return True\n",
        "    else:\n",
        "      return False"
      ],
      "metadata": {
        "id": "hkqEpkr_Ec5X"
      },
      "execution_count": null,
      "outputs": []
    },
    {
      "cell_type": "code",
      "source": [
        "handler = EmpleadoHandler()\n",
        "procesador = EmpleadoServicio.Processor(handler)"
      ],
      "metadata": {
        "id": "EPHEyzIoEgKj"
      },
      "execution_count": null,
      "outputs": []
    },
    {
      "cell_type": "markdown",
      "source": [
        "Configuramos el puerto en el que se van a exponer los servicios"
      ],
      "metadata": {
        "id": "J2aN18njeAT7"
      }
    },
    {
      "cell_type": "code",
      "source": [
        "transporte_serv = TSocket.TServerSocket(port=9090)"
      ],
      "metadata": {
        "id": "y0k5Mt35EkB7"
      },
      "execution_count": null,
      "outputs": []
    },
    {
      "cell_type": "code",
      "source": [
        "transporte_fact = TTransport.TBufferedTransportFactory()"
      ],
      "metadata": {
        "id": "eWgpp7E0Elz4"
      },
      "execution_count": null,
      "outputs": []
    },
    {
      "cell_type": "code",
      "source": [
        "protocolo_fact = TBinaryProtocol.TBinaryProtocolFactory()"
      ],
      "metadata": {
        "id": "Hhps-LATEnmP"
      },
      "execution_count": null,
      "outputs": []
    },
    {
      "cell_type": "code",
      "source": [
        "servidor =TServer.TSimpleServer(procesador, transporte_serv, transporte_fact, protocolo_fact)\n",
        "#Servidor multihilo\n",
        "#servidor = TServer.TThreadedServer(procesador, transporte_serv, transporte_fact, protocolo_fact)"
      ],
      "metadata": {
        "id": "DsH2f3D9Epbw"
      },
      "execution_count": null,
      "outputs": []
    },
    {
      "cell_type": "markdown",
      "source": [
        "Exponemos el servidor"
      ],
      "metadata": {
        "id": "yJrW0hc5eKIf"
      }
    },
    {
      "cell_type": "code",
      "source": [
        "servidor.serve()"
      ],
      "metadata": {
        "id": "nEKyFw2kErOQ"
      },
      "execution_count": null,
      "outputs": []
    },
    {
      "cell_type": "markdown",
      "source": [
        "###**Ejemplo calculadora**"
      ],
      "metadata": {
        "id": "gdYTmeylSTSn"
      }
    },
    {
      "cell_type": "markdown",
      "source": [
        "Veamos un archivo thrift para realizar cálculos matemáticos"
      ],
      "metadata": {
        "id": "Z6DXKiMLLtz4"
      }
    },
    {
      "cell_type": "code",
      "source": [
        "!thrift -r --gen py local/data/calculadora.thrift"
      ],
      "metadata": {
        "id": "HwMDtzNzLyFs"
      },
      "execution_count": null,
      "outputs": []
    },
    {
      "cell_type": "markdown",
      "source": [
        "####**Servidor**"
      ],
      "metadata": {
        "id": "TSFebrizSX1E"
      }
    },
    {
      "cell_type": "code",
      "source": [
        "import sys\n",
        "sys.path.append('gen-py')"
      ],
      "metadata": {
        "id": "94TumU3qMNMy"
      },
      "execution_count": null,
      "outputs": []
    },
    {
      "cell_type": "code",
      "source": [
        "from calculadora import CalculadoraService\n",
        "from calculadora.ttypes import *\n",
        "\n",
        "from thrift import Thrift\n",
        "from thrift.transport import TSocket\n",
        "from thrift.transport import TTransport\n",
        "from thrift.protocol import TBinaryProtocol\n",
        "from thrift.server import TServer"
      ],
      "metadata": {
        "id": "vXUhFX5xMUnD"
      },
      "execution_count": null,
      "outputs": []
    },
    {
      "cell_type": "markdown",
      "source": [
        "Definición de los servicios a realizar"
      ],
      "metadata": {
        "id": "2xNOD2oE5rIN"
      }
    },
    {
      "cell_type": "code",
      "source": [
        "class CalculadoraHandler:\n",
        "    def calc_func(self, proceso):\n",
        "        print('Operacion ente (%d,%d) Operacion: %r' % (proceso.num1, proceso.num2, proceso))\n",
        "        if proceso.op == Operaciones.SUMA:\n",
        "            val = proceso.num1 + proceso.num2\n",
        "        elif proceso.op == Operaciones.RESTA:\n",
        "            val = proceso.num1 - proceso.num2\n",
        "        elif proceso.op == Operaciones.PRODUCTO:\n",
        "            val = proceso.num1 * proceso.num2\n",
        "        elif proceso.op == Operaciones.DIVISION:\n",
        "            val = proceso.num1 / proceso.num2\n",
        "\n",
        "        return val\n",
        "       "
      ],
      "metadata": {
        "id": "WCUY2VIqMkaP"
      },
      "execution_count": null,
      "outputs": []
    },
    {
      "cell_type": "markdown",
      "source": [
        "Preparación del servidor"
      ],
      "metadata": {
        "id": "KeA3lsvT51B-"
      }
    },
    {
      "cell_type": "code",
      "source": [
        "handler = CalculadoraHandler()\n",
        "procesador = CalculadoraService.Processor(handler)\n",
        "transporte_serv = TSocket.TServerSocket(port=9090)\n",
        "transporte_fact = TTransport.TBufferedTransportFactory()\n",
        "protocolo_fact = TBinaryProtocol.TBinaryProtocolFactory()\n",
        "servidor =TServer.TSimpleServer(procesador, transporte_serv, transporte_fact, protocolo_fact)"
      ],
      "metadata": {
        "id": "cFsVaEIjP_TG"
      },
      "execution_count": null,
      "outputs": []
    },
    {
      "cell_type": "markdown",
      "source": [
        "Lanzamiento del servidor"
      ],
      "metadata": {
        "id": "Dw0rC-9c56pU"
      }
    },
    {
      "cell_type": "code",
      "source": [
        "servidor.serve()"
      ],
      "metadata": {
        "id": "qeg2otkiQhaq"
      },
      "execution_count": null,
      "outputs": []
    },
    {
      "cell_type": "markdown",
      "source": [
        "####**Cliente**"
      ],
      "metadata": {
        "id": "xmm2XPV0Scsj"
      }
    },
    {
      "cell_type": "code",
      "source": [
        "import sys\n",
        "sys.path.append('gen-py')\n",
        "from calculadora import CalculadoraService\n",
        "from calculadora.ttypes import *\n",
        "from thrift import Thrift\n",
        "from thrift.transport import TSocket\n",
        "from thrift.transport import TTransport\n",
        "from thrift.protocol import TBinaryProtocol"
      ],
      "metadata": {
        "id": "KE4EoOL_TdA2"
      },
      "execution_count": null,
      "outputs": []
    },
    {
      "cell_type": "code",
      "source": [
        "transport = TSocket.TSocket('localhost', 9090)\n",
        "transport = TTransport.TBufferedTransport(transport)\n",
        "protocol = TBinaryProtocol.TBinaryProtocol(transport)\n",
        "client = CalculadoraService.Client(protocol)"
      ],
      "metadata": {
        "id": "wAw8NaIdeqXe"
      },
      "execution_count": null,
      "outputs": []
    },
    {
      "cell_type": "code",
      "source": [
        "transport.open()"
      ],
      "metadata": {
        "id": "53Nhs6LwgmVG"
      },
      "execution_count": null,
      "outputs": []
    },
    {
      "cell_type": "markdown",
      "source": [
        "Realicemos una operación de suma"
      ],
      "metadata": {
        "id": "9qhrjVkb6AMc"
      }
    },
    {
      "cell_type": "code",
      "source": [
        "pSuma=Proceso()\n",
        "pSuma.num1=5\n",
        "pSuma.num2=10\n",
        "pSuma.op=Operaciones.SUMA"
      ],
      "metadata": {
        "id": "sPjKcTr24H3E"
      },
      "execution_count": null,
      "outputs": []
    },
    {
      "cell_type": "code",
      "source": [
        "suma = client.calcular(pSuma)\n",
        "print ('%d + %d =%d' % (p.num1, p.num2,suma))"
      ],
      "metadata": {
        "id": "oQ-F0ua6gn9V"
      },
      "execution_count": null,
      "outputs": []
    },
    {
      "cell_type": "markdown",
      "source": [
        "Realicemos una operación de resta"
      ],
      "metadata": {
        "id": "PG6R0dFg6DK_"
      }
    },
    {
      "cell_type": "code",
      "source": [
        "pResta=Proceso()\n",
        "pResta.num1=20\n",
        "pResta.num2=15\n",
        "pResta.op=Operaciones.RESTA"
      ],
      "metadata": {
        "id": "QaHQw3QD5G8G"
      },
      "execution_count": null,
      "outputs": []
    },
    {
      "cell_type": "code",
      "source": [
        "resta = client.calcular(pResta)\n",
        "print ('%d - %d = %d' % (p.num1, p.num2,resta))"
      ],
      "metadata": {
        "id": "Ysbg5LK25Noy"
      },
      "execution_count": null,
      "outputs": []
    },
    {
      "cell_type": "code",
      "source": [
        "transport.close()"
      ],
      "metadata": {
        "id": "1JCX72_Tgo8t"
      },
      "execution_count": null,
      "outputs": []
    },
    {
      "cell_type": "markdown",
      "source": [
        "##**Ejercicio**"
      ],
      "metadata": {
        "id": "jn5X4cMiwqK8"
      }
    },
    {
      "cell_type": "markdown",
      "source": [
        "Utilizando la información relacionada on la ciudades que ha visitado (país, departamento, fecha de visita, duración, motivo, etc)\n",
        "\n",
        "Represente la información usando protocol buffer\n",
        "\n",
        "Represente la información usando apache thrift"
      ],
      "metadata": {
        "id": "hmOcP-HMwxJw"
      }
    }
  ]
}